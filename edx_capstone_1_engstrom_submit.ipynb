{
 "cells": [
  {
   "cell_type": "markdown",
   "metadata": {},
   "source": [
    "# NOTEBOOK (1 of 4) - PyR (Chris Engstrom)"
   ]
  },
  {
   "cell_type": "markdown",
   "metadata": {},
   "source": [
    "## Q1. Which type of complaint should the DHPD of New York City focus on first?"
   ]
  },
  {
   "cell_type": "markdown",
   "metadata": {},
   "source": [
    "## Contents\n",
    "1. Business Understanding\n",
    "2. Analytical Approach\n",
    "3. Data Requirements\n",
    "4. Data Collection\n",
    "5. Data Understanding\n",
    "6. Concluding Remarks"
   ]
  },
  {
   "cell_type": "markdown",
   "metadata": {},
   "source": [
    "## 1. Business Understanding"
   ]
  },
  {
   "cell_type": "markdown",
   "metadata": {},
   "source": [
    "Problem Statement - The people of New York use the 311 system to report complaints about the non-emergency problems to local authorities. Various agencies in New York are assigned these problems. The Department of Housing Preservation and Development (DHPD) of New York City is the agency that processes 311 complaints that are related to housing and buildings. In the last few years, the number of 311 complaints coming to the DHPD has increased significantly. Although these complaints are not necessarily urgent, the large volume of complaints and the sudden increase is impacting the overall efficiency of operations of the agency.\n",
    "\n",
    "The DHPD has approached your organization to help them manage the large volume of 311 complaints they are receiving every year. The agency needs answers to several questions which need to be supported by data and analytics:\n",
    "\n",
    "    1) Which type of complaint should the DHPD of New York City focus on first?\n",
    "    2) Should DHPD focus on complaints at particular locations where they are most severe?\n",
    "    3) Does the Complaint Type identified in Q1 have an a useful relationship with particular characteristic(s) of the houses/buildings?\n",
    "    4) Can a predictive model be built to predict the possibility of future Q1 complaints?\n",
    "    \n",
    "Your organization has assigned you as the lead data scientist to provide the answers to these questions. You need to work on getting answers to them in this Capstone Project by following the standard approach of data science and machine learning."
   ]
  },
  {
   "cell_type": "markdown",
   "metadata": {},
   "source": [
    "## 2. Analytical Approach"
   ]
  },
  {
   "cell_type": "markdown",
   "metadata": {},
   "source": [
    "Capstone Notebook (1 of 4) Q1) Which type of complaint should the DHPD of New York City focus on first?\n",
    "\n",
    "For Q1, after completing Data Requirements and Data Collection phases we will conduct Data Understanding by applying the following steps to confidently anwser Q1:\n",
    "        - Describe the shape of the NYC 311 dataset\n",
    "        - View a summary of the dataset\n",
    "        - View the first rows of the dataset\n",
    "        - Run Descriptives on the fields in the dataset\n",
    "        - Run Frequency counts specifically on the 'complaint_type' field\n",
    "        - Restrict the 'created_date' field per the requirements in the instructions \n",
    "        - Re-run Frequency counts for the 'complaint_type' field\n",
    "        - Plot the frequencies\n",
    "        - Analyze the results\n",
    "        - Answer Q1"
   ]
  },
  {
   "cell_type": "markdown",
   "metadata": {},
   "source": [
    "## 3. Data Requirements"
   ]
  },
  {
   "cell_type": "markdown",
   "metadata": {},
   "source": [
    "### Setup"
   ]
  },
  {
   "cell_type": "code",
   "execution_count": 1,
   "metadata": {},
   "outputs": [],
   "source": [
    "# Environment setup\n",
    "import types\n",
    "import pandas as pd\n",
    "from botocore.client import Config\n",
    "import ibm_boto3\n",
    "\n",
    "def __iter__(self): return 0\n",
    "\n",
    "# @hidden_cell\n",
    "# The following code accesses a file in your IBM Cloud Object Storage. It includes your credentials.\n",
    "# You might want to remove those credentials before you share the notebook.\n",
    "client_c1d08c5c14374903951f00633e391147 = ibm_boto3.client(service_name='s3',\n",
    "    ibm_api_key_id='**********',\n",
    "    ibm_auth_endpoint=\"https://iam.ng.bluemix.net/oidc/token\",\n",
    "    config=Config(signature_version='oauth'),\n",
    "    endpoint_url='https://s3-api.us-geo.objectstorage.service.networklayer.com')"
   ]
  },
  {
   "cell_type": "code",
   "execution_count": 2,
   "metadata": {},
   "outputs": [],
   "source": [
    "# Create credential and bucket variables\n",
    "# @hidden_cell\n",
    "# The following code accesses a file in your IBM Cloud Object Storage. It includes your credentials.\n",
    "# You might want to remove those credentials before you share the notebook.\n",
    "client_cred = ibm_boto3.client(service_name='s3',\n",
    "ibm_api_key_id='*************',\n",
    "ibm_auth_endpoint=\"https://iam.ng.bluemix.net/oidc/token\",\n",
    "config=Config(signature_version='oauth'),\n",
    "endpoint_url='https://s3-api.us-geo.objectstorage.service.networklayer.com')\n",
    "\n",
    "bucket = '******'"
   ]
  },
  {
   "cell_type": "markdown",
   "metadata": {},
   "source": [
    "### Datasets - Use two datasets from the DHPD of New York City to address their problems.\n",
    "\n",
    "1) 311 complaint dataset\n",
    "    - Only use data related to the DHPD\n",
    "    - Only use the following fields: \n",
    "        - created_date, unique_key, complaint_type\n",
    "        - incident_zip, incident_address, street_name\n",
    "        - address_type, city, resolution_description\n",
    "        - borough, latitude, longitude\n",
    "        - closed_date, location_type, status\n",
    "    \n",
    "2) PLUTO dataset for housing\n",
    "    - Contains data belived to be relevant to solving the stated problem\n",
    "    - Contains a separate file for each NYC borough"
   ]
  },
  {
   "cell_type": "markdown",
   "metadata": {},
   "source": [
    "## 4. Data Collection"
   ]
  },
  {
   "cell_type": "markdown",
   "metadata": {},
   "source": [
    "#### Note: Both datasets have already been collected and uploaded into the IBM Cloud Object Store. "
   ]
  },
  {
   "cell_type": "code",
   "execution_count": 3,
   "metadata": {},
   "outputs": [],
   "source": [
    "# Download NYC 311 data from the IBM Cloud Object Store for Data Understanding phase.\n",
    "# Import pandas\n",
    "import types\n",
    "import pandas as pd\n",
    "\n",
    "#Download the file from IBM Cloud Object Store\n",
    "client_cred.download_file(Bucket=bucket,Key='df_nyc311_raw_cos.pkl',Filename='./df_nyc311_raw_local.pkl')\n",
    "\n",
    "#Create a dataframe out of the file\n",
    "df_nyc311 = pd.read_pickle('./df_nyc311_raw_local.pkl')"
   ]
  },
  {
   "cell_type": "markdown",
   "metadata": {},
   "source": [
    "## 5. Data Understanding"
   ]
  },
  {
   "cell_type": "code",
   "execution_count": 4,
   "metadata": {},
   "outputs": [
    {
     "data": {
      "text/plain": [
       "(5895877, 15)"
      ]
     },
     "execution_count": 4,
     "metadata": {},
     "output_type": "execute_result"
    }
   ],
   "source": [
    "# Describe the shape of the NYC 311 dataset\n",
    "df_nyc311.shape "
   ]
  },
  {
   "cell_type": "markdown",
   "metadata": {},
   "source": [
    "#### Output confirms the 15 fields that were expected."
   ]
  },
  {
   "cell_type": "code",
   "execution_count": 5,
   "metadata": {},
   "outputs": [
    {
     "name": "stdout",
     "output_type": "stream",
     "text": [
      "<class 'pandas.core.frame.DataFrame'>\n",
      "RangeIndex: 5895877 entries, 0 to 5895876\n",
      "Data columns (total 15 columns):\n",
      "created_date              datetime64[ns]\n",
      "unique_key                int64\n",
      "complaint_type            object\n",
      "incident_zip              float64\n",
      "incident_address          object\n",
      "street_name               object\n",
      "address_type              object\n",
      "city                      object\n",
      "resolution_description    object\n",
      "borough                   object\n",
      "latitude                  float64\n",
      "longitude                 float64\n",
      "closed_date               datetime64[ns]\n",
      "location_type             object\n",
      "status                    object\n",
      "dtypes: datetime64[ns](2), float64(3), int64(1), object(9)\n",
      "memory usage: 674.7+ MB\n"
     ]
    }
   ],
   "source": [
    "# View a summary of the dataset\n",
    "df_nyc311.info()"
   ]
  },
  {
   "cell_type": "markdown",
   "metadata": {},
   "source": [
    "#### Output describes field types, number of records, etc. and recognized date fields as dates."
   ]
  },
  {
   "cell_type": "code",
   "execution_count": 6,
   "metadata": {},
   "outputs": [
    {
     "data": {
      "text/html": [
       "<div>\n",
       "<style scoped>\n",
       "    .dataframe tbody tr th:only-of-type {\n",
       "        vertical-align: middle;\n",
       "    }\n",
       "\n",
       "    .dataframe tbody tr th {\n",
       "        vertical-align: top;\n",
       "    }\n",
       "\n",
       "    .dataframe thead th {\n",
       "        text-align: right;\n",
       "    }\n",
       "</style>\n",
       "<table border=\"1\" class=\"dataframe\">\n",
       "  <thead>\n",
       "    <tr style=\"text-align: right;\">\n",
       "      <th></th>\n",
       "      <th>created_date</th>\n",
       "      <th>unique_key</th>\n",
       "      <th>complaint_type</th>\n",
       "      <th>incident_zip</th>\n",
       "      <th>incident_address</th>\n",
       "      <th>street_name</th>\n",
       "      <th>address_type</th>\n",
       "      <th>city</th>\n",
       "      <th>resolution_description</th>\n",
       "      <th>borough</th>\n",
       "      <th>latitude</th>\n",
       "      <th>longitude</th>\n",
       "      <th>closed_date</th>\n",
       "      <th>location_type</th>\n",
       "      <th>status</th>\n",
       "    </tr>\n",
       "  </thead>\n",
       "  <tbody>\n",
       "    <tr>\n",
       "      <th>0</th>\n",
       "      <td>2019-11-03 18:33:57</td>\n",
       "      <td>44222420</td>\n",
       "      <td>HEAT/HOT WATER</td>\n",
       "      <td>10472.0</td>\n",
       "      <td>1349 STRATFORD AVENUE</td>\n",
       "      <td>STRATFORD AVENUE</td>\n",
       "      <td>ADDRESS</td>\n",
       "      <td>BRONX</td>\n",
       "      <td>The complaint you filed is a duplicate of a co...</td>\n",
       "      <td>BRONX</td>\n",
       "      <td>40.832973</td>\n",
       "      <td>-73.876391</td>\n",
       "      <td>NaT</td>\n",
       "      <td>RESIDENTIAL BUILDING</td>\n",
       "      <td>Open</td>\n",
       "    </tr>\n",
       "    <tr>\n",
       "      <th>1</th>\n",
       "      <td>2019-11-03 22:42:28</td>\n",
       "      <td>44221513</td>\n",
       "      <td>HEAT/HOT WATER</td>\n",
       "      <td>11229.0</td>\n",
       "      <td>1714 AVENUE V</td>\n",
       "      <td>AVENUE V</td>\n",
       "      <td>ADDRESS</td>\n",
       "      <td>BROOKLYN</td>\n",
       "      <td>The complaint you filed is a duplicate of a co...</td>\n",
       "      <td>BROOKLYN</td>\n",
       "      <td>40.596940</td>\n",
       "      <td>-73.953869</td>\n",
       "      <td>NaT</td>\n",
       "      <td>RESIDENTIAL BUILDING</td>\n",
       "      <td>Open</td>\n",
       "    </tr>\n",
       "    <tr>\n",
       "      <th>2</th>\n",
       "      <td>2019-11-03 17:58:40</td>\n",
       "      <td>44222229</td>\n",
       "      <td>HEAT/HOT WATER</td>\n",
       "      <td>10002.0</td>\n",
       "      <td>621 WATER STREET</td>\n",
       "      <td>WATER STREET</td>\n",
       "      <td>ADDRESS</td>\n",
       "      <td>NEW YORK</td>\n",
       "      <td>The following complaint conditions are still o...</td>\n",
       "      <td>MANHATTAN</td>\n",
       "      <td>40.711306</td>\n",
       "      <td>-73.983761</td>\n",
       "      <td>NaT</td>\n",
       "      <td>RESIDENTIAL BUILDING</td>\n",
       "      <td>Open</td>\n",
       "    </tr>\n",
       "    <tr>\n",
       "      <th>3</th>\n",
       "      <td>2019-11-03 21:36:21</td>\n",
       "      <td>44217728</td>\n",
       "      <td>HEAT/HOT WATER</td>\n",
       "      <td>11373.0</td>\n",
       "      <td>89-21 ELMHURST AVENUE</td>\n",
       "      <td>ELMHURST AVENUE</td>\n",
       "      <td>ADDRESS</td>\n",
       "      <td>Elmhurst</td>\n",
       "      <td>The complaint you filed is a duplicate of a co...</td>\n",
       "      <td>QUEENS</td>\n",
       "      <td>40.747420</td>\n",
       "      <td>-73.876853</td>\n",
       "      <td>NaT</td>\n",
       "      <td>RESIDENTIAL BUILDING</td>\n",
       "      <td>Open</td>\n",
       "    </tr>\n",
       "    <tr>\n",
       "      <th>4</th>\n",
       "      <td>2019-11-03 10:44:47</td>\n",
       "      <td>44221452</td>\n",
       "      <td>HEAT/HOT WATER</td>\n",
       "      <td>10467.0</td>\n",
       "      <td>3235 PARKSIDE PLACE</td>\n",
       "      <td>PARKSIDE PLACE</td>\n",
       "      <td>ADDRESS</td>\n",
       "      <td>BRONX</td>\n",
       "      <td>The following complaint conditions are still o...</td>\n",
       "      <td>BRONX</td>\n",
       "      <td>40.874547</td>\n",
       "      <td>-73.874010</td>\n",
       "      <td>NaT</td>\n",
       "      <td>RESIDENTIAL BUILDING</td>\n",
       "      <td>Open</td>\n",
       "    </tr>\n",
       "  </tbody>\n",
       "</table>\n",
       "</div>"
      ],
      "text/plain": [
       "         created_date  unique_key  complaint_type  incident_zip  \\\n",
       "0 2019-11-03 18:33:57    44222420  HEAT/HOT WATER       10472.0   \n",
       "1 2019-11-03 22:42:28    44221513  HEAT/HOT WATER       11229.0   \n",
       "2 2019-11-03 17:58:40    44222229  HEAT/HOT WATER       10002.0   \n",
       "3 2019-11-03 21:36:21    44217728  HEAT/HOT WATER       11373.0   \n",
       "4 2019-11-03 10:44:47    44221452  HEAT/HOT WATER       10467.0   \n",
       "\n",
       "        incident_address       street_name address_type      city  \\\n",
       "0  1349 STRATFORD AVENUE  STRATFORD AVENUE      ADDRESS     BRONX   \n",
       "1          1714 AVENUE V          AVENUE V      ADDRESS  BROOKLYN   \n",
       "2       621 WATER STREET      WATER STREET      ADDRESS  NEW YORK   \n",
       "3  89-21 ELMHURST AVENUE   ELMHURST AVENUE      ADDRESS  Elmhurst   \n",
       "4    3235 PARKSIDE PLACE    PARKSIDE PLACE      ADDRESS     BRONX   \n",
       "\n",
       "                              resolution_description    borough   latitude  \\\n",
       "0  The complaint you filed is a duplicate of a co...      BRONX  40.832973   \n",
       "1  The complaint you filed is a duplicate of a co...   BROOKLYN  40.596940   \n",
       "2  The following complaint conditions are still o...  MANHATTAN  40.711306   \n",
       "3  The complaint you filed is a duplicate of a co...     QUEENS  40.747420   \n",
       "4  The following complaint conditions are still o...      BRONX  40.874547   \n",
       "\n",
       "   longitude closed_date         location_type status  \n",
       "0 -73.876391         NaT  RESIDENTIAL BUILDING   Open  \n",
       "1 -73.953869         NaT  RESIDENTIAL BUILDING   Open  \n",
       "2 -73.983761         NaT  RESIDENTIAL BUILDING   Open  \n",
       "3 -73.876853         NaT  RESIDENTIAL BUILDING   Open  \n",
       "4 -73.874010         NaT  RESIDENTIAL BUILDING   Open  "
      ]
     },
     "execution_count": 6,
     "metadata": {},
     "output_type": "execute_result"
    }
   ],
   "source": [
    "# View the first rows of the dataset\n",
    "df_nyc311.head() "
   ]
  },
  {
   "cell_type": "markdown",
   "metadata": {},
   "source": [
    "#### Output initially confirms the field names and that the data seem to make sense. \n",
    "#### Output also reveals that the dataset contains records with created_date after Dec 31, 2018."
   ]
  },
  {
   "cell_type": "code",
   "execution_count": 7,
   "metadata": {},
   "outputs": [
    {
     "data": {
      "text/html": [
       "<div>\n",
       "<style scoped>\n",
       "    .dataframe tbody tr th:only-of-type {\n",
       "        vertical-align: middle;\n",
       "    }\n",
       "\n",
       "    .dataframe tbody tr th {\n",
       "        vertical-align: top;\n",
       "    }\n",
       "\n",
       "    .dataframe thead th {\n",
       "        text-align: right;\n",
       "    }\n",
       "</style>\n",
       "<table border=\"1\" class=\"dataframe\">\n",
       "  <thead>\n",
       "    <tr style=\"text-align: right;\">\n",
       "      <th></th>\n",
       "      <th>unique_key</th>\n",
       "      <th>incident_zip</th>\n",
       "      <th>latitude</th>\n",
       "      <th>longitude</th>\n",
       "    </tr>\n",
       "  </thead>\n",
       "  <tbody>\n",
       "    <tr>\n",
       "      <th>count</th>\n",
       "      <td>5.895877e+06</td>\n",
       "      <td>5.815248e+06</td>\n",
       "      <td>5.815274e+06</td>\n",
       "      <td>5.815274e+06</td>\n",
       "    </tr>\n",
       "    <tr>\n",
       "      <th>mean</th>\n",
       "      <td>2.923432e+07</td>\n",
       "      <td>1.074764e+04</td>\n",
       "      <td>4.075408e+01</td>\n",
       "      <td>-7.391989e+01</td>\n",
       "    </tr>\n",
       "    <tr>\n",
       "      <th>std</th>\n",
       "      <td>7.658809e+06</td>\n",
       "      <td>5.129788e+02</td>\n",
       "      <td>9.088544e-02</td>\n",
       "      <td>5.687527e-02</td>\n",
       "    </tr>\n",
       "    <tr>\n",
       "      <th>min</th>\n",
       "      <td>1.562973e+07</td>\n",
       "      <td>1.000100e+04</td>\n",
       "      <td>4.049934e+01</td>\n",
       "      <td>-7.425312e+01</td>\n",
       "    </tr>\n",
       "    <tr>\n",
       "      <th>25%</th>\n",
       "      <td>2.279465e+07</td>\n",
       "      <td>1.045200e+04</td>\n",
       "      <td>4.067109e+01</td>\n",
       "      <td>-7.395200e+01</td>\n",
       "    </tr>\n",
       "    <tr>\n",
       "      <th>50%</th>\n",
       "      <td>2.910884e+07</td>\n",
       "      <td>1.046900e+04</td>\n",
       "      <td>4.075659e+01</td>\n",
       "      <td>-7.392250e+01</td>\n",
       "    </tr>\n",
       "    <tr>\n",
       "      <th>75%</th>\n",
       "      <td>3.545154e+07</td>\n",
       "      <td>1.122400e+04</td>\n",
       "      <td>4.083949e+01</td>\n",
       "      <td>-7.389026e+01</td>\n",
       "    </tr>\n",
       "    <tr>\n",
       "      <th>max</th>\n",
       "      <td>4.422381e+07</td>\n",
       "      <td>1.234500e+04</td>\n",
       "      <td>4.091287e+01</td>\n",
       "      <td>-7.370079e+01</td>\n",
       "    </tr>\n",
       "  </tbody>\n",
       "</table>\n",
       "</div>"
      ],
      "text/plain": [
       "         unique_key  incident_zip      latitude     longitude\n",
       "count  5.895877e+06  5.815248e+06  5.815274e+06  5.815274e+06\n",
       "mean   2.923432e+07  1.074764e+04  4.075408e+01 -7.391989e+01\n",
       "std    7.658809e+06  5.129788e+02  9.088544e-02  5.687527e-02\n",
       "min    1.562973e+07  1.000100e+04  4.049934e+01 -7.425312e+01\n",
       "25%    2.279465e+07  1.045200e+04  4.067109e+01 -7.395200e+01\n",
       "50%    2.910884e+07  1.046900e+04  4.075659e+01 -7.392250e+01\n",
       "75%    3.545154e+07  1.122400e+04  4.083949e+01 -7.389026e+01\n",
       "max    4.422381e+07  1.234500e+04  4.091287e+01 -7.370079e+01"
      ]
     },
     "execution_count": 7,
     "metadata": {},
     "output_type": "execute_result"
    }
   ],
   "source": [
    "# Run Descriptives on the (numeric) fields\n",
    "df_nyc311.describe() "
   ]
  },
  {
   "cell_type": "markdown",
   "metadata": {},
   "source": [
    "#### Output initially does not indicate any major issues with the continuous fields in the dataset. "
   ]
  },
  {
   "cell_type": "code",
   "execution_count": 8,
   "metadata": {},
   "outputs": [
    {
     "data": {
      "text/html": [
       "<div>\n",
       "<style scoped>\n",
       "    .dataframe tbody tr th:only-of-type {\n",
       "        vertical-align: middle;\n",
       "    }\n",
       "\n",
       "    .dataframe tbody tr th {\n",
       "        vertical-align: top;\n",
       "    }\n",
       "\n",
       "    .dataframe thead th {\n",
       "        text-align: right;\n",
       "    }\n",
       "</style>\n",
       "<table border=\"1\" class=\"dataframe\">\n",
       "  <thead>\n",
       "    <tr style=\"text-align: right;\">\n",
       "      <th></th>\n",
       "      <th>complaint_type</th>\n",
       "      <th>incident_address</th>\n",
       "      <th>street_name</th>\n",
       "      <th>address_type</th>\n",
       "      <th>city</th>\n",
       "      <th>resolution_description</th>\n",
       "      <th>borough</th>\n",
       "      <th>location_type</th>\n",
       "      <th>status</th>\n",
       "    </tr>\n",
       "  </thead>\n",
       "  <tbody>\n",
       "    <tr>\n",
       "      <th>count</th>\n",
       "      <td>5895877</td>\n",
       "      <td>5843046</td>\n",
       "      <td>5843046</td>\n",
       "      <td>5811104</td>\n",
       "      <td>5815660</td>\n",
       "      <td>5882655</td>\n",
       "      <td>5895877</td>\n",
       "      <td>5843047</td>\n",
       "      <td>5895877</td>\n",
       "    </tr>\n",
       "    <tr>\n",
       "      <th>unique</th>\n",
       "      <td>30</td>\n",
       "      <td>179355</td>\n",
       "      <td>6792</td>\n",
       "      <td>1</td>\n",
       "      <td>89</td>\n",
       "      <td>341</td>\n",
       "      <td>6</td>\n",
       "      <td>5</td>\n",
       "      <td>5</td>\n",
       "    </tr>\n",
       "    <tr>\n",
       "      <th>top</th>\n",
       "      <td>HEAT/HOT WATER</td>\n",
       "      <td>34 ARDEN STREET</td>\n",
       "      <td>GRAND CONCOURSE</td>\n",
       "      <td>ADDRESS</td>\n",
       "      <td>BROOKLYN</td>\n",
       "      <td>The Department of Housing Preservation and Dev...</td>\n",
       "      <td>BROOKLYN</td>\n",
       "      <td>RESIDENTIAL BUILDING</td>\n",
       "      <td>Closed</td>\n",
       "    </tr>\n",
       "    <tr>\n",
       "      <th>freq</th>\n",
       "      <td>1171736</td>\n",
       "      <td>14259</td>\n",
       "      <td>90317</td>\n",
       "      <td>5811104</td>\n",
       "      <td>1989928</td>\n",
       "      <td>1677278</td>\n",
       "      <td>1703234</td>\n",
       "      <td>5835938</td>\n",
       "      <td>5761624</td>\n",
       "    </tr>\n",
       "  </tbody>\n",
       "</table>\n",
       "</div>"
      ],
      "text/plain": [
       "        complaint_type incident_address      street_name address_type  \\\n",
       "count          5895877          5843046          5843046      5811104   \n",
       "unique              30           179355             6792            1   \n",
       "top     HEAT/HOT WATER  34 ARDEN STREET  GRAND CONCOURSE      ADDRESS   \n",
       "freq           1171736            14259            90317      5811104   \n",
       "\n",
       "            city                             resolution_description   borough  \\\n",
       "count    5815660                                            5882655   5895877   \n",
       "unique        89                                                341         6   \n",
       "top     BROOKLYN  The Department of Housing Preservation and Dev...  BROOKLYN   \n",
       "freq     1989928                                            1677278   1703234   \n",
       "\n",
       "               location_type   status  \n",
       "count                5843047  5895877  \n",
       "unique                     5        5  \n",
       "top     RESIDENTIAL BUILDING   Closed  \n",
       "freq                 5835938  5761624  "
      ]
     },
     "execution_count": 8,
     "metadata": {},
     "output_type": "execute_result"
    }
   ],
   "source": [
    "# Run Descriptives on the (non-numeric) fields\n",
    "df_nyc311.describe(include=['object']) "
   ]
  },
  {
   "cell_type": "markdown",
   "metadata": {},
   "source": [
    "#### Output initially indicates the following:\n",
    "    - Record counts are pretty much consistent across the fields\n",
    "    - There are 30 unique complaint types\n",
    "    - HEAT/HOT WATER is the most frequently occuring complaint type (accounting for 1,171,736 of the 5,895,877 records (19.9%)\n",
    "    - There are 6 unique values for the 'borough' field when 5 were expected\n",
    "    - Before identifying top complaints, Brooklyn is the borough with the highest number of TOTAL complaint records\n",
    "    - Nearly all complaints have a status of CLOSED\n",
    "    "
   ]
  },
  {
   "cell_type": "code",
   "execution_count": 9,
   "metadata": {},
   "outputs": [
    {
     "data": {
      "text/plain": [
       "array(['HEAT/HOT WATER', 'UNSANITARY CONDITION', 'DOOR/WINDOW',\n",
       "       'PAINT/PLASTER', 'APPLIANCE', 'PLUMBING', 'ELECTRIC', 'ELEVATOR',\n",
       "       'WATER LEAK', 'FLOORING/STAIRS', 'GENERAL', 'SAFETY',\n",
       "       'OUTSIDE BUILDING', 'HEATING', 'PAINT - PLASTER', 'Electric',\n",
       "       'Unsanitary Condition', 'HPD Literature Request', 'General',\n",
       "       'Safety', 'Appliance', 'GENERAL CONSTRUCTION', 'NONCONST',\n",
       "       'CONSTRUCTION', 'AGENCY', 'STRUCTURAL', 'VACANT APARTMENT',\n",
       "       'Outside Building', 'Plumbing', 'Mold'], dtype=object)"
      ]
     },
     "execution_count": 9,
     "metadata": {},
     "output_type": "execute_result"
    }
   ],
   "source": [
    "# Review the unique values in the 'complaint_type field'\n",
    "df_nyc311['complaint_type'].unique()"
   ]
  },
  {
   "cell_type": "markdown",
   "metadata": {},
   "source": [
    "#### Output shows that some of the unique complaint_types are very similar and will need to be consolidated to get a more accurate understanding of the complaint_type frequencies. For example, it probably makes sense to combine the 'HEAT/HOT WATER' values with the 'HEATING' values and the 'UNSANITARY CONDITION' values with the 'Unsanitary Condition' values etc. A Frequencies analysis is needed to understand how to deal with this issue. The 'HEAT/HOT WATER' and 'HEATING' combination will need to be VALIDATED with the client later on."
   ]
  },
  {
   "cell_type": "code",
   "execution_count": 10,
   "metadata": {},
   "outputs": [
    {
     "data": {
      "text/plain": [
       "HEAT/HOT WATER            1171736\n",
       "HEATING                    887869\n",
       "PLUMBING                   705611\n",
       "GENERAL CONSTRUCTION       500863\n",
       "UNSANITARY CONDITION       443007\n",
       "PAINT - PLASTER            361258\n",
       "PAINT/PLASTER              343029\n",
       "ELECTRIC                   304874\n",
       "NONCONST                   260890\n",
       "DOOR/WINDOW                201930\n",
       "WATER LEAK                 190167\n",
       "GENERAL                    148280\n",
       "FLOORING/STAIRS            136121\n",
       "APPLIANCE                  110923\n",
       "HPD Literature Request      52830\n",
       "SAFETY                      50634\n",
       "OUTSIDE BUILDING             7074\n",
       "ELEVATOR                     6561\n",
       "Unsanitary Condition         5499\n",
       "CONSTRUCTION                 5078\n",
       "General                      1163\n",
       "Safety                        424\n",
       "STRUCTURAL                     16\n",
       "Plumbing                       11\n",
       "AGENCY                          9\n",
       "VACANT APARTMENT                8\n",
       "Outside Building                6\n",
       "Appliance                       4\n",
       "Electric                        1\n",
       "Mold                            1\n",
       "Name: complaint_type, dtype: int64"
      ]
     },
     "execution_count": 10,
     "metadata": {},
     "output_type": "execute_result"
    }
   ],
   "source": [
    "# Run Frequency counts specifically on the 'complaint_type' field\n",
    "df_nyc311_complaint_counts = df_nyc311[\"complaint_type\"].value_counts()\n",
    "df_nyc311_complaint_counts"
   ]
  },
  {
   "cell_type": "markdown",
   "metadata": {},
   "source": [
    "#### Comments:\n",
    "- For the time being we will assume it makes sense to combine ('HEAT/HOT WATER'/'HEATING') compalint types. We may separate them later for analysis.\n",
    "- Output clearly shows that when all relevant complaint_type value consolidations are eventually completed, ('HEAT/HOT WATER'/'HEATING') combination will be most frequent. \n",
    "- However, (though not likely) this may change once we restrict the dataset by the date requirement in the instructions. \n",
    "- The top 2 complaint types ('HEAT/HOT WATER'/'HEATING') account for roughly ~35% of total complaints. \n",
    "- 'PLUMBING', 'WATER LEAK' are also high on list and may be related to 'HEAT/HOT WATER'/'HEATING' complaints. Will discuss at later time with client."
   ]
  },
  {
   "cell_type": "markdown",
   "metadata": {},
   "source": [
    "#### Examine date ranges of dataset."
   ]
  },
  {
   "cell_type": "code",
   "execution_count": 11,
   "metadata": {},
   "outputs": [
    {
     "data": {
      "text/html": [
       "<div>\n",
       "<style scoped>\n",
       "    .dataframe tbody tr th:only-of-type {\n",
       "        vertical-align: middle;\n",
       "    }\n",
       "\n",
       "    .dataframe tbody tr th {\n",
       "        vertical-align: top;\n",
       "    }\n",
       "\n",
       "    .dataframe thead th {\n",
       "        text-align: right;\n",
       "    }\n",
       "</style>\n",
       "<table border=\"1\" class=\"dataframe\">\n",
       "  <thead>\n",
       "    <tr style=\"text-align: right;\">\n",
       "      <th></th>\n",
       "      <th>created_date</th>\n",
       "    </tr>\n",
       "  </thead>\n",
       "  <tbody>\n",
       "    <tr>\n",
       "      <th>count</th>\n",
       "      <td>5895877</td>\n",
       "    </tr>\n",
       "    <tr>\n",
       "      <th>unique</th>\n",
       "      <td>1553688</td>\n",
       "    </tr>\n",
       "    <tr>\n",
       "      <th>top</th>\n",
       "      <td>2013-01-24 00:00:00</td>\n",
       "    </tr>\n",
       "    <tr>\n",
       "      <th>freq</th>\n",
       "      <td>7581</td>\n",
       "    </tr>\n",
       "    <tr>\n",
       "      <th>first</th>\n",
       "      <td>2010-01-01 00:00:00</td>\n",
       "    </tr>\n",
       "    <tr>\n",
       "      <th>last</th>\n",
       "      <td>2019-11-03 23:59:45</td>\n",
       "    </tr>\n",
       "  </tbody>\n",
       "</table>\n",
       "</div>"
      ],
      "text/plain": [
       "               created_date\n",
       "count               5895877\n",
       "unique              1553688\n",
       "top     2013-01-24 00:00:00\n",
       "freq                   7581\n",
       "first   2010-01-01 00:00:00\n",
       "last    2019-11-03 23:59:45"
      ]
     },
     "execution_count": 11,
     "metadata": {},
     "output_type": "execute_result"
    }
   ],
   "source": [
    "# Describe the 'created_date' field before the dataset is restricted by date.\n",
    "df_nyc311[['created_date']].describe()"
   ]
  },
  {
   "cell_type": "markdown",
   "metadata": {},
   "source": [
    "#### Output shows that the Max date is 2019-11-03. However, project requirements specify an interest only in records created up until Dec 31, 2018. "
   ]
  },
  {
   "cell_type": "markdown",
   "metadata": {},
   "source": [
    "#### Restrict date range for analysis."
   ]
  },
  {
   "cell_type": "code",
   "execution_count": 12,
   "metadata": {},
   "outputs": [
    {
     "data": {
      "text/html": [
       "<div>\n",
       "<style scoped>\n",
       "    .dataframe tbody tr th:only-of-type {\n",
       "        vertical-align: middle;\n",
       "    }\n",
       "\n",
       "    .dataframe tbody tr th {\n",
       "        vertical-align: top;\n",
       "    }\n",
       "\n",
       "    .dataframe thead th {\n",
       "        text-align: right;\n",
       "    }\n",
       "</style>\n",
       "<table border=\"1\" class=\"dataframe\">\n",
       "  <thead>\n",
       "    <tr style=\"text-align: right;\">\n",
       "      <th></th>\n",
       "      <th>created_date</th>\n",
       "    </tr>\n",
       "  </thead>\n",
       "  <tbody>\n",
       "    <tr>\n",
       "      <th>count</th>\n",
       "      <td>5517069</td>\n",
       "    </tr>\n",
       "    <tr>\n",
       "      <th>unique</th>\n",
       "      <td>1295884</td>\n",
       "    </tr>\n",
       "    <tr>\n",
       "      <th>top</th>\n",
       "      <td>2013-01-24 00:00:00</td>\n",
       "    </tr>\n",
       "    <tr>\n",
       "      <th>freq</th>\n",
       "      <td>7581</td>\n",
       "    </tr>\n",
       "    <tr>\n",
       "      <th>first</th>\n",
       "      <td>2010-01-01 00:00:00</td>\n",
       "    </tr>\n",
       "    <tr>\n",
       "      <th>last</th>\n",
       "      <td>2018-12-31 23:58:53</td>\n",
       "    </tr>\n",
       "  </tbody>\n",
       "</table>\n",
       "</div>"
      ],
      "text/plain": [
       "               created_date\n",
       "count               5517069\n",
       "unique              1295884\n",
       "top     2013-01-24 00:00:00\n",
       "freq                   7581\n",
       "first   2010-01-01 00:00:00\n",
       "last    2018-12-31 23:58:53"
      ]
     },
     "execution_count": 12,
     "metadata": {},
     "output_type": "execute_result"
    }
   ],
   "source": [
    "# Create new df that only includes records with created_date before January 1, 2019.\n",
    "df_nyc311_dec312018=df_nyc311[df_nyc311['created_date']<'2019']\n",
    "\n",
    "# Describe the 'created_date' field for the date restricted dataset.\n",
    "df_nyc311_dec312018[['created_date']].describe()"
   ]
  },
  {
   "cell_type": "markdown",
   "metadata": {},
   "source": [
    "#### Output shows that the Max created_date is now 2018-12-31. Now we can re-run the Frequencies analysis to answer Q1 "
   ]
  },
  {
   "cell_type": "code",
   "execution_count": 13,
   "metadata": {},
   "outputs": [
    {
     "data": {
      "text/plain": [
       "HEAT/HOT WATER            1023788\n",
       "HEATING                    887869\n",
       "PLUMBING                   673406\n",
       "GENERAL CONSTRUCTION       500863\n",
       "UNSANITARY CONDITION       390908\n",
       "PAINT - PLASTER            361258\n",
       "PAINT/PLASTER              311075\n",
       "ELECTRIC                   289345\n",
       "NONCONST                   260890\n",
       "DOOR/WINDOW                179573\n",
       "WATER LEAK                 167900\n",
       "GENERAL                    132207\n",
       "FLOORING/STAIRS            122869\n",
       "APPLIANCE                  101944\n",
       "HPD Literature Request      51604\n",
       "SAFETY                      44088\n",
       "OUTSIDE BUILDING             6532\n",
       "ELEVATOR                     5620\n",
       "CONSTRUCTION                 5078\n",
       "Unsanitary Condition          141\n",
       "General                        70\n",
       "STRUCTURAL                     16\n",
       "AGENCY                          9\n",
       "VACANT APARTMENT                8\n",
       "Safety                          8\n",
       "Name: complaint_type, dtype: int64"
      ]
     },
     "execution_count": 13,
     "metadata": {},
     "output_type": "execute_result"
    }
   ],
   "source": [
    "# Run sorted Frequency counts on 'complaint_type' for the new dataset.\n",
    "df_nyc311_dec312018_complaint_counts = df_nyc311_dec312018[\"complaint_type\"].value_counts()\n",
    "df_nyc311_dec312018_complaint_counts"
   ]
  },
  {
   "cell_type": "markdown",
   "metadata": {},
   "source": [
    "#### Output still shows that when all relevant complaint_type value combinations are complete, ('HEAT/HOT WATER' and 'HEATING') combination is still the most frequent."
   ]
  },
  {
   "cell_type": "markdown",
   "metadata": {},
   "source": [
    "#### Plot frequencies. "
   ]
  },
  {
   "cell_type": "code",
   "execution_count": 14,
   "metadata": {},
   "outputs": [
    {
     "data": {
      "image/png": "[encoded data removed]",
      "text/plain": [
       "<Figure size 720x864 with 1 Axes>"
      ]
     },
     "metadata": {
      "needs_background": "light"
     },
     "output_type": "display_data"
    }
   ],
   "source": [
    "# Plot the Frequencies table\n",
    "# Import Matplotlib and use the inline backend to generate the plots within the browser\n",
    "%matplotlib inline \n",
    "import matplotlib as mpl\n",
    "import matplotlib.pyplot as plt\n",
    "\n",
    "# Sort dataframe \n",
    "df_nyc311_dec312018_complaint_counts.sort_values(ascending=True, inplace=True)\n",
    "\n",
    "# Generate plot\n",
    "df_nyc311_dec312018_complaint_counts.plot(kind='barh', figsize=(10, 12), color='steelblue')\n",
    "plt.xlabel('Number of Complaints')\n",
    "plt.title('NYC 311 Complaint Type Incidence (2010-2018)')\n",
    "plt.show()"
   ]
  },
  {
   "cell_type": "markdown",
   "metadata": {},
   "source": [
    "## CONCLUDING REMARKS (Q1):\n",
    "\n",
    "Q1. Which type of complaint should the DHPD of New York City focus on first?\n",
    "\n",
    "ANSWER: DHPD should first address the combined complaint types of ('HEAT/HOT WATER' and 'HEATING').\n",
    "\n",
    "(Note: The assumption to combine ('HEAT/HOT WATER' and 'HEATING') needs to be validated with the client DHPD domain experts.)\n",
    "\n",
    "Results/Analysis Summary\n",
    "- There are 30 unique complaint types\n",
    "- 'HEAT/HOT WATER' is the most frequently occuring complaint type (accounting for 1,171,736 of the 5,895,877 records (19.9%)\n",
    "- 'HEATING' is a close second and is likely to be highly-related to 'HEAT/HOT WATER' and will be consolidated into a single complaint category.\n",
    "- The top 2 complaint types ('HEAT/HOT WATER'/'HEATING') account for roughly ~35% of total complaints. \n",
    "\n",
    "Stakeholder Questions (To be clarified with DHPD stakeholders):\n",
    "- Is the combination of 'HEAT/HOT WATER' and 'HEATING' complaints valid?\n",
    "- 'PLUMBING', 'WATER LEAK' are high on list and may be related to 'HEAT/HOT WATER'/'HEATING' complaints. Is there domain knowledge to support this assumption?\n",
    "- Would you expect 'PLUMBING', 'WATER LEAK' complaint types to be predictive of 'HEAT/HOT WATER'/'HEATING' complaints?\n",
    "\n",
    "Other Considerations (Problem formulation ideas to refine the analysis and model down the road):\n",
    "1. We need to be careful using other complaint types to predict the TARGET variable as it may compromise it and invalidate the model (i.e., create a \"leakage\" issue).\n",
    "1. Further restrict dataset to records created after 2015 or 2016. Complaint data relevance likely diminishes with age. Considering only more recent complaints may provide better results. \n",
    "2. Examine 'HEAT/HOT WATER'/'HEATING' complaints as % of Total complaints and if this rate has changed over time. This may improve model results. "
   ]
  },
  {
   "cell_type": "markdown",
   "metadata": {},
   "source": [
    "### END OF NOTEBOOK (1 of 4)"
   ]
  },
  {
   "cell_type": "code",
   "execution_count": null,
   "metadata": {},
   "outputs": [],
   "source": []
  }
 ],
 "metadata": {
  "kernelspec": {
   "display_name": "Python 3.6",
   "language": "python",
   "name": "python3"
  },
  "language_info": {
   "codemirror_mode": {
    "name": "ipython",
    "version": 3
   },
   "file_extension": ".py",
   "mimetype": "text/x-python",
   "name": "python",
   "nbconvert_exporter": "python",
   "pygments_lexer": "ipython3",
   "version": "3.6.8"
  }
 },
 "nbformat": 4,
 "nbformat_minor": 1
}
