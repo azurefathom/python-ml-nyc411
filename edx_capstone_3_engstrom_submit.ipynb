{
 "cells": [
  {
   "cell_type": "markdown",
   "metadata": {},
   "source": [
    "# NOTEBOOK (3 of 4) - PyR (Chris Engstrom)"
   ]
  },
  {
   "cell_type": "markdown",
   "metadata": {},
   "source": [
    "## Q3. Does Q1 complaint type have a useful relationship with any of the building characteristics?"
   ]
  },
  {
   "cell_type": "markdown",
   "metadata": {},
   "source": [
    "## Contents\n",
    "1. Business Understanding\n",
    "2. Analytical Approach\n",
    "3. Data Requirements\n",
    "4. Data Collection\n",
    "5. Data Preparation\n",
    "6. Exploratory Data Analysis (EDA)\n",
    "7. Concluding Remarks"
   ]
  },
  {
   "cell_type": "markdown",
   "metadata": {},
   "source": [
    "## 1. Business Understanding"
   ]
  },
  {
   "cell_type": "markdown",
   "metadata": {},
   "source": [
    "Problem Statement - The people of New York use the 311 system to report complaints about the non-emergency problems to local authorities. Various agencies in New York are assigned these problems. The Department of Housing Preservation and Development (DHPD) of New York City is the agency that processes 311 complaints that are related to housing and buildings. In the last few years, the number of 311 complaints coming to the DHPD has increased significantly. Although these complaints are not necessarily urgent, the large volume of complaints and the sudden increase is impacting the overall efficiency of operations of the agency.\n",
    "\n",
    "The DHPD has approached your organization to help them manage the large volume of 311 complaints they are receiving every year. The agency needs answers to several questions which need to be supported by data and analytics:\n",
    "\n",
    "    1) Which type of complaint should the DHPD of New York City focus on first?\n",
    "    2) Should DHPD focus on complaints at particular locations where they are most severe?\n",
    "    3) Does Complaint Type identified in Q1 have a useful relationship with any particular characteristic(s) of the houses/buildings?\n",
    "    4) Can a predictive model be built to predict the possibility of future Q1 complaints?\n",
    "    \n",
    "Your organization has assigned you as the lead data scientist to provide the answers to these questions. You need to work on getting answers to them in this Capstone Project by following the standard approach of data science and machine learning."
   ]
  },
  {
   "cell_type": "markdown",
   "metadata": {},
   "source": [
    "## 2. Analytical Approach"
   ]
  },
  {
   "cell_type": "markdown",
   "metadata": {},
   "source": [
    "1. Load required datasets (NYC311, PLUTO-Bronx)\n",
    "2. Create NYC311 COMPLAINT dummies\n",
    "3. Group NYC311 df (at address level) and summarize dummies\n",
    "4. Join NYC311 and PLUTO dataframes (at address level) to produce a single analytical file\n",
    "5. Derive mutiple TARGET variable options\n",
    "6. Derive required features (e.g., incorporating NumFloors, Age of Bldg)\n",
    "7. Explore relationships between TARGETS and key features\n",
    "8. Summarize analysis"
   ]
  },
  {
   "cell_type": "code",
   "execution_count": 1,
   "metadata": {},
   "outputs": [],
   "source": [
    "# Environment Setup\n",
    "import types\n",
    "import pandas as pd\n",
    "import numpy as np\n",
    "import scipy\n",
    "import seaborn as sns\n",
    "\n",
    "from sklearn import preprocessing\n",
    "%matplotlib inline\n",
    "import matplotlib as mpl\n",
    "import matplotlib.pyplot as plt\n",
    "from botocore.client import Config\n",
    "import ibm_boto3\n",
    "def __iter__(self): return 0\n",
    "\n",
    "# @hidden_cell\n",
    "# The following code accesses a file in your IBM Cloud Object Storage. It includes your credentials.\n",
    "# You might want to remove those credentials before you share the notebook.\n",
    "client_c1d08c5c14374903951f00633e391147 = ibm_boto3.client(service_name='s3',\n",
    "    ibm_api_key_id='************',\n",
    "    ibm_auth_endpoint=\"https://iam.ng.bluemix.net/oidc/token\",\n",
    "    config=Config(signature_version='oauth'),\n",
    "    endpoint_url='https://s3-api.us-geo.objectstorage.service.networklayer.com')"
   ]
  },
  {
   "cell_type": "code",
   "execution_count": 2,
   "metadata": {},
   "outputs": [],
   "source": [
    "# Create credential and bucket variables\n",
    "# @hidden_cell\n",
    "# The following code accesses a file in your IBM Cloud Object Storage. It includes your credentials.\n",
    "# You might want to remove those credentials before you share the notebook.\n",
    "client_cred = ibm_boto3.client(service_name='s3',\n",
    "ibm_api_key_id='**************',\n",
    "ibm_auth_endpoint=\"https://iam.ng.bluemix.net/oidc/token\",\n",
    "config=Config(signature_version='oauth'),\n",
    "endpoint_url='https://s3-api.us-geo.objectstorage.service.networklayer.com')\n",
    "\n",
    "bucket = '*************'"
   ]
  },
  {
   "cell_type": "markdown",
   "metadata": {},
   "source": [
    "## 3. Data Requirements"
   ]
  },
  {
   "cell_type": "markdown",
   "metadata": {},
   "source": [
    "Include the following data sources:\n",
    "1. NYC 311\n",
    "2. PLUTO (Bronx)"
   ]
  },
  {
   "cell_type": "markdown",
   "metadata": {},
   "source": [
    "## 4. Data Collection"
   ]
  },
  {
   "cell_type": "markdown",
   "metadata": {},
   "source": [
    "#### Load NYC311 and PLUTO (Bronx) datasets from IBM Cloud Object Store."
   ]
  },
  {
   "cell_type": "code",
   "execution_count": 3,
   "metadata": {},
   "outputs": [],
   "source": [
    "# Load NYC311 file from IBM Cloud Object Store\n",
    "client_cred.download_file(Bucket=bucket,Key='df_nyc311_raw_cos.pkl',Filename='./df_nyc311_raw_local.pkl')\n",
    "\n",
    "# Create Pandas dataframe\n",
    "df_nyc311 = pd.read_pickle('./df_nyc311_raw_local.pkl')"
   ]
  },
  {
   "cell_type": "code",
   "execution_count": 4,
   "metadata": {},
   "outputs": [
    {
     "name": "stderr",
     "output_type": "stream",
     "text": [
      "/opt/conda/envs/Python36/lib/python3.6/site-packages/IPython/core/interactiveshell.py:3020: DtypeWarning: Columns (19,20,22,23,64,65,80) have mixed types. Specify dtype option on import or set low_memory=False.\n",
      "  interactivity=interactivity, compiler=compiler, result=result)\n"
     ]
    }
   ],
   "source": [
    "# Load PLUTO (Bronx) data from the IBM Cloud Object Store.\n",
    "body = client_c1d08c5c14374903951f00633e391147.get_object(Bucket='edx1-donotdelete-pr-5a2mc3zzkipsze',Key='BX_18v1.csv')['Body']\n",
    "# add missing __iter__ method, so pandas accepts body as file-like object\n",
    "if not hasattr(body, \"__iter__\"): body.__iter__ = types.MethodType( __iter__, body )\n",
    "\n",
    "df_pluto_bx = pd.read_csv(body)\n",
    "#df_pluto_bx.head()\n",
    "#df_pluto_bx.info()"
   ]
  },
  {
   "cell_type": "markdown",
   "metadata": {},
   "source": [
    "## 5. Data Preparation"
   ]
  },
  {
   "cell_type": "markdown",
   "metadata": {},
   "source": [
    "#### 5a. Restrict dataset by date (per Q1 requirements)."
   ]
  },
  {
   "cell_type": "code",
   "execution_count": 5,
   "metadata": {},
   "outputs": [],
   "source": [
    "# Per Q1 instructions only include NYC311 records before Jan 1, 2019.\n",
    "df_nyc311_dec312018=df_nyc311[df_nyc311['created_date']<'2019']\n",
    "\n",
    "# Check 'created_date' field dates for restricted dataset.\n",
    "#df_nyc311_dec312018[['created_date']].describe()\n",
    "#df_nyc311_dec312018.info()"
   ]
  },
  {
   "cell_type": "markdown",
   "metadata": {},
   "source": [
    "#### 5b.Create new NYC311 df that only includes necessary fields and BRONX complaints within targeted ZIPS."
   ]
  },
  {
   "cell_type": "code",
   "execution_count": 6,
   "metadata": {},
   "outputs": [],
   "source": [
    "# Create new df from NYC311 df that only includes needed fields.\n",
    "df_train_nyc = df_nyc311_dec312018[['unique_key','complaint_type','incident_zip','incident_address','street_name','borough']]\n",
    "\n",
    "# Include NYC311 BRONX records only.\n",
    "df_train_nyc_bx = df_train_nyc.loc[(df_train_nyc['borough']=='BRONX')]\n",
    "              \n",
    "# Include NYC311 BRONX records only with the following ZIPCODES (10468, 10458, 10453, 10457, 10452, 10456, 10451).\n",
    "bx_zips = [10468.0, 10458.0, 10453.0, 10457.0, 10452.0, 10456.0, 10451.0]\n",
    "df_train_nyc_bx_zp = df_train_nyc_bx[df_train_nyc_bx['incident_zip'].isin(bx_zips)] \n",
    "\n",
    "#df_train_nyc_bx_zp['incident_zip'].value_counts()\n",
    "#df_train_nyc_bx_zp.head()\n",
    "#df_train_nyc_bx_zp.info()"
   ]
  },
  {
   "cell_type": "markdown",
   "metadata": {},
   "source": [
    "#### 5c. Create new PLUTO (BRONX) df that only includes necessary fields."
   ]
  },
  {
   "cell_type": "code",
   "execution_count": 7,
   "metadata": {},
   "outputs": [],
   "source": [
    "# Create new df from PLUTO (Bronx) df that only indludes needed fields.\n",
    "df_train_pluto_bx = df_pluto_bx[['Address','BldgArea','BldgDepth','BuiltFAR','FacilFAR','Lot','LotArea','LotDepth','NumBldgs',\n",
    "        'NumFloors','ResArea','ResidFAR','YearBuilt','YearAlter1','YearAlter2']]\n",
    "\n",
    "#df_train_pluto_bx.describe()\n",
    "#df_train_pluto_bx.info() # 89,854"
   ]
  },
  {
   "cell_type": "markdown",
   "metadata": {},
   "source": [
    "#### 5d. DROP key PLUTO rows where fields contain ZEROS."
   ]
  },
  {
   "cell_type": "code",
   "execution_count": 8,
   "metadata": {},
   "outputs": [
    {
     "name": "stderr",
     "output_type": "stream",
     "text": [
      "/opt/conda/envs/Python36/lib/python3.6/site-packages/pandas/core/frame.py:3940: SettingWithCopyWarning: \n",
      "A value is trying to be set on a copy of a slice from a DataFrame\n",
      "\n",
      "See the caveats in the documentation: http://pandas.pydata.org/pandas-docs/stable/indexing.html#indexing-view-versus-copy\n",
      "  errors=errors)\n"
     ]
    }
   ],
   "source": [
    "# DROP key PLUTO rows where fields contain ZEROS.\n",
    "drop_zero7 = df_train_pluto_bx[df_train_pluto_bx['LotDepth'] == 0 ].index\n",
    "df_train_pluto_bx.drop(drop_zero7, inplace=True)  \n",
    "\n",
    "drop_zero6 = df_train_pluto_bx[df_train_pluto_bx['LotArea'] == 0 ].index\n",
    "df_train_pluto_bx.drop(drop_zero6, inplace=True)   \n",
    "\n",
    "drop_zero5 = df_train_pluto_bx[df_train_pluto_bx['FacilFAR'] == 0 ].index\n",
    "df_train_pluto_bx.drop(drop_zero5, inplace=True)   \n",
    "\n",
    "drop_zero12 = df_train_pluto_bx[df_train_pluto_bx['ResidFAR'] == 0 ].index\n",
    "df_train_pluto_bx.drop(drop_zero12, inplace=True)   \n",
    "\n",
    "drop_zero8 = df_train_pluto_bx[df_train_pluto_bx['NumBldgs'] == 0 ].index\n",
    "df_train_pluto_bx.drop(drop_zero8, inplace=True)   \n",
    "\n",
    "drop_zero1 = df_train_pluto_bx[df_train_pluto_bx['BldgArea'] == 0 ].index\n",
    "df_train_pluto_bx.drop(drop_zero1, inplace=True)       \n",
    "\n",
    "drop_zero3 = df_train_pluto_bx[df_train_pluto_bx['BuiltFAR'] == 0 ].index\n",
    "df_train_pluto_bx.drop(drop_zero3, inplace=True)  \n",
    "\n",
    "drop_zero9 = df_train_pluto_bx[df_train_pluto_bx['NumFloors'] == 0 ].index\n",
    "df_train_pluto_bx.drop(drop_zero9, inplace=True)  \n",
    "\n",
    "drop_zero2 = df_train_pluto_bx[df_train_pluto_bx['BldgDepth'] == 0 ].index\n",
    "df_train_pluto_bx.drop(drop_zero2, inplace=True)   \n",
    "\n",
    "#df_train_pluto_bx.describe()\n",
    "#df_train_pluto_bx.info()"
   ]
  },
  {
   "cell_type": "markdown",
   "metadata": {},
   "source": [
    "#### 5e. DERIVE NYC311 Complaint Dummies."
   ]
  },
  {
   "cell_type": "code",
   "execution_count": 9,
   "metadata": {},
   "outputs": [],
   "source": [
    "#Use \"One-hot Coding\" to create new df with dummies for 'complaint_type'\n",
    "df_train_nyc_bx_zp_dum = pd.get_dummies(df_train_nyc_bx_zp, prefix='', columns=['complaint_type'])\n",
    "\n",
    "#df_train_nyc_bx_zp_dum.head()\n",
    "#f_train_nyc_bx_zp_dum.info()"
   ]
  },
  {
   "cell_type": "markdown",
   "metadata": {},
   "source": [
    "#### 5f. Group Complaints at ADDRESS level and sum DUMMIES. View df."
   ]
  },
  {
   "cell_type": "code",
   "execution_count": 10,
   "metadata": {},
   "outputs": [],
   "source": [
    "#GROUP and SUM DUMMIES (address level)\n",
    "df_train_nyc_bx_zp_dum_add = df_train_nyc_bx_zp_dum.groupby('incident_address')['incident_address','_CONSTRUCTION','_GENERAL CONSTRUCTION','_HEAT/HOT WATER',\n",
    "                                        '_HEATING','_PAINT - PLASTER','_PAINT/PLASTER','_PLUMBING','_UNSANITARY CONDITION','_Unsanitary Condition',\n",
    "                                        '_WATER LEAK','_APPLIANCE','_DOOR/WINDOW','_ELECTRIC','_ELEVATOR','_FLOORING/STAIRS','_GENERAL',\n",
    "                                        '_NONCONST','_OUTSIDE BUILDING','_SAFETY'].sum()\n",
    "\n",
    "#df_train_nyc_bx_zp_dum_add.head()\n",
    "#df_train_nyc_bx_zp_dum_add.info()"
   ]
  },
  {
   "cell_type": "markdown",
   "metadata": {},
   "source": [
    "#### 5g. DERIVE TOTAL COMPAINTS field and TARGET variable candidates."
   ]
  },
  {
   "cell_type": "code",
   "execution_count": 11,
   "metadata": {
    "scrolled": true
   },
   "outputs": [],
   "source": [
    "# Derive '_Tot_Complaints' feature by adding all complaint dummies.\n",
    "#df_train_nyc_bx_gc_dum_add['_Tot_Complaints'] = df_train_nyc_bx_gc_dum_add['_GENERAL CONSTRUCTION'] + df_train_nyc_bx_gc_dum_add['_CONSTRUCTION'] + df_train_nyc_bx_gc_dum_add['_HEAT/HOT WATER'] + df_train_nyc_bx_gc_dum_add['_HEATING'] + df_train_nyc_bx_gc_dum_add['_PAINT - PLASTER'] + df_train_nyc_bx_gc_dum_add['_PAINT/PLASTER'] + df_train_nyc_bx_gc_dum_add['_PLUMBING'] + df_train_nyc_bx_gc_dum_add['_UNSANITARY CONDITION'] + df_train_nyc_bx_gc_dum_add['_Unsanitary Condition'] + df_train_nyc_bx_gc_dum_add['_WATER LEAK'] + df_train_nyc_bx_gc_dum_add['_APPLIANCE'] + df_train_nyc_bx_gc_dum_add['_DOOR/WINDOW'] + df_train_nyc_bx_gc_dum_add['_ELECTRIC'] + df_train_nyc_bx_gc_dum_add['_ELEVATOR'] + df_train_nyc_bx_gc_dum_add['_FLOORING/STAIRS'] + df_train_nyc_bx_gc_dum_add['_GENERAL'] + df_train_nyc_bx_gc_dum_add['_NONCONST'] + df_train_nyc_bx_gc_dum_add['_OUTSIDE BUILDING'] + df_train_nyc_bx_gc_dum_add['_SAFETY']\n",
    "df_train_nyc_bx_zp_dum_add['_Tot_Complaints'] = df_train_nyc_bx_zp_dum_add['_GENERAL CONSTRUCTION'] + df_train_nyc_bx_zp_dum_add['_CONSTRUCTION'] + df_train_nyc_bx_zp_dum_add['_HEAT/HOT WATER'] + df_train_nyc_bx_zp_dum_add['_HEATING'] + df_train_nyc_bx_zp_dum_add['_PAINT - PLASTER'] + df_train_nyc_bx_zp_dum_add['_PAINT/PLASTER'] + df_train_nyc_bx_zp_dum_add['_PLUMBING'] + df_train_nyc_bx_zp_dum_add['_UNSANITARY CONDITION'] + df_train_nyc_bx_zp_dum_add['_Unsanitary Condition'] + df_train_nyc_bx_zp_dum_add['_WATER LEAK'] + df_train_nyc_bx_zp_dum_add['_APPLIANCE'] + df_train_nyc_bx_zp_dum_add['_DOOR/WINDOW'] + df_train_nyc_bx_zp_dum_add['_ELECTRIC'] + df_train_nyc_bx_zp_dum_add['_ELEVATOR'] + df_train_nyc_bx_zp_dum_add['_FLOORING/STAIRS'] + df_train_nyc_bx_zp_dum_add['_GENERAL'] + df_train_nyc_bx_zp_dum_add['_NONCONST'] + df_train_nyc_bx_zp_dum_add['_OUTSIDE BUILDING'] + df_train_nyc_bx_zp_dum_add['_SAFETY']\n",
    "\n",
    "# Derive primary TARGET variable by adding 'HEAT/HOT WATER' and 'HEATING' dummies.\n",
    "#df_train_nyc_bx_gc_dum_add['TARGET'] = df_train_nyc_bx_gc_dum_add['_HEAT/HOT WATER'] + df_train_nyc_bx_gc_dum_add['_HEATING']\n",
    "df_train_nyc_bx_zp_dum_add['TARGET'] = df_train_nyc_bx_zp_dum_add['_HEAT/HOT WATER'] + df_train_nyc_bx_zp_dum_add['_HEATING']\n",
    "\n",
    "# Derive another potential TARGET_R (Ratio) variable by dividing TOP COMPLAINTS variable by '_Tot_Complaints' variable.\n",
    "#df_train_nyc_bx_gc_dum_add['TARGET_R'] = df_train_nyc_bx_gc_dum_add['TARGET'] / df_train_nyc_bx_gc_dum_add['_Tot_Complaints']\n",
    "df_train_nyc_bx_zp_dum_add['TARGET_R'] = df_train_nyc_bx_zp_dum_add['TARGET'] / df_train_nyc_bx_zp_dum_add['_Tot_Complaints']\n",
    "\n",
    "# Reset Index and RENAME Address field.\n",
    "df_train_nyc_bx_zp_dum_add = df_train_nyc_bx_zp_dum_add.reset_index()\n",
    "df_train_nyc_bx_zp_dum_add = df_train_nyc_bx_zp_dum_add.rename(columns={\"incident_address\": \"Address\"})\n",
    "\n",
    "#df_train_nyc_bx_zp_dum_add.head()\n",
    "#df_train_nyc_bx_zp_dum_add.info()"
   ]
  },
  {
   "cell_type": "markdown",
   "metadata": {},
   "source": [
    "#### 5h. Create new NYC311 df that only includes key fields."
   ]
  },
  {
   "cell_type": "code",
   "execution_count": 12,
   "metadata": {},
   "outputs": [],
   "source": [
    "# Create new NYC311 df that only includes key fields.\n",
    "df_training_1 = df_train_nyc_bx_zp_dum_add[['Address','TARGET','TARGET_R','_Tot_Complaints']]\n",
    "\n",
    "#df_training_1.head()\n",
    "#df_training_1.info()"
   ]
  },
  {
   "cell_type": "markdown",
   "metadata": {},
   "source": [
    "#### 5i. Join datasets (NYC311 and PLUTO BRONX). View joined df."
   ]
  },
  {
   "cell_type": "code",
   "execution_count": 13,
   "metadata": {
    "scrolled": false
   },
   "outputs": [
    {
     "data": {
      "text/html": [
       "<div>\n",
       "<style scoped>\n",
       "    .dataframe tbody tr th:only-of-type {\n",
       "        vertical-align: middle;\n",
       "    }\n",
       "\n",
       "    .dataframe tbody tr th {\n",
       "        vertical-align: top;\n",
       "    }\n",
       "\n",
       "    .dataframe thead th {\n",
       "        text-align: right;\n",
       "    }\n",
       "</style>\n",
       "<table border=\"1\" class=\"dataframe\">\n",
       "  <thead>\n",
       "    <tr style=\"text-align: right;\">\n",
       "      <th></th>\n",
       "      <th>Address</th>\n",
       "      <th>TARGET</th>\n",
       "      <th>TARGET_R</th>\n",
       "      <th>_Tot_Complaints</th>\n",
       "      <th>BldgArea</th>\n",
       "      <th>BldgDepth</th>\n",
       "      <th>BuiltFAR</th>\n",
       "      <th>FacilFAR</th>\n",
       "      <th>Lot</th>\n",
       "      <th>LotArea</th>\n",
       "      <th>LotDepth</th>\n",
       "      <th>NumBldgs</th>\n",
       "      <th>NumFloors</th>\n",
       "      <th>ResArea</th>\n",
       "      <th>ResidFAR</th>\n",
       "      <th>YearBuilt</th>\n",
       "      <th>YearAlter1</th>\n",
       "      <th>YearAlter2</th>\n",
       "    </tr>\n",
       "  </thead>\n",
       "  <tbody>\n",
       "    <tr>\n",
       "      <th>0</th>\n",
       "      <td>1 DOROTHEA PLACE</td>\n",
       "      <td>1.0</td>\n",
       "      <td>1.000000</td>\n",
       "      <td>1.0</td>\n",
       "      <td>2395</td>\n",
       "      <td>31.0</td>\n",
       "      <td>0.35</td>\n",
       "      <td>2.0</td>\n",
       "      <td>85</td>\n",
       "      <td>6813</td>\n",
       "      <td>125.0</td>\n",
       "      <td>2</td>\n",
       "      <td>2.5</td>\n",
       "      <td>2395</td>\n",
       "      <td>0.90</td>\n",
       "      <td>1920</td>\n",
       "      <td>0</td>\n",
       "      <td>0</td>\n",
       "    </tr>\n",
       "    <tr>\n",
       "      <th>1</th>\n",
       "      <td>1 EAST 198 STREET</td>\n",
       "      <td>41.0</td>\n",
       "      <td>0.234286</td>\n",
       "      <td>175.0</td>\n",
       "      <td>58962</td>\n",
       "      <td>101.0</td>\n",
       "      <td>4.37</td>\n",
       "      <td>6.5</td>\n",
       "      <td>29</td>\n",
       "      <td>13500</td>\n",
       "      <td>111.0</td>\n",
       "      <td>1</td>\n",
       "      <td>6.0</td>\n",
       "      <td>56462</td>\n",
       "      <td>6.02</td>\n",
       "      <td>1941</td>\n",
       "      <td>0</td>\n",
       "      <td>0</td>\n",
       "    </tr>\n",
       "    <tr>\n",
       "      <th>2</th>\n",
       "      <td>1 WEST TREMONT AVENUE</td>\n",
       "      <td>1.0</td>\n",
       "      <td>1.000000</td>\n",
       "      <td>1.0</td>\n",
       "      <td>31460</td>\n",
       "      <td>120.0</td>\n",
       "      <td>1.51</td>\n",
       "      <td>6.5</td>\n",
       "      <td>1</td>\n",
       "      <td>20800</td>\n",
       "      <td>120.0</td>\n",
       "      <td>2</td>\n",
       "      <td>2.0</td>\n",
       "      <td>0</td>\n",
       "      <td>6.02</td>\n",
       "      <td>1925</td>\n",
       "      <td>0</td>\n",
       "      <td>0</td>\n",
       "    </tr>\n",
       "    <tr>\n",
       "      <th>3</th>\n",
       "      <td>10 EAST 198 STREET</td>\n",
       "      <td>102.0</td>\n",
       "      <td>0.515152</td>\n",
       "      <td>198.0</td>\n",
       "      <td>70800</td>\n",
       "      <td>96.0</td>\n",
       "      <td>5.83</td>\n",
       "      <td>6.5</td>\n",
       "      <td>114</td>\n",
       "      <td>12150</td>\n",
       "      <td>106.0</td>\n",
       "      <td>1</td>\n",
       "      <td>6.0</td>\n",
       "      <td>69000</td>\n",
       "      <td>6.02</td>\n",
       "      <td>1941</td>\n",
       "      <td>0</td>\n",
       "      <td>0</td>\n",
       "    </tr>\n",
       "    <tr>\n",
       "      <th>4</th>\n",
       "      <td>10 WEST 182 STREET</td>\n",
       "      <td>116.0</td>\n",
       "      <td>0.382838</td>\n",
       "      <td>303.0</td>\n",
       "      <td>47000</td>\n",
       "      <td>87.0</td>\n",
       "      <td>4.70</td>\n",
       "      <td>4.0</td>\n",
       "      <td>61</td>\n",
       "      <td>10000</td>\n",
       "      <td>100.0</td>\n",
       "      <td>1</td>\n",
       "      <td>5.0</td>\n",
       "      <td>47000</td>\n",
       "      <td>4.00</td>\n",
       "      <td>1927</td>\n",
       "      <td>0</td>\n",
       "      <td>0</td>\n",
       "    </tr>\n",
       "  </tbody>\n",
       "</table>\n",
       "</div>"
      ],
      "text/plain": [
       "                 Address  TARGET  TARGET_R  _Tot_Complaints  BldgArea  \\\n",
       "0       1 DOROTHEA PLACE     1.0  1.000000              1.0      2395   \n",
       "1      1 EAST 198 STREET    41.0  0.234286            175.0     58962   \n",
       "2  1 WEST TREMONT AVENUE     1.0  1.000000              1.0     31460   \n",
       "3     10 EAST 198 STREET   102.0  0.515152            198.0     70800   \n",
       "4     10 WEST 182 STREET   116.0  0.382838            303.0     47000   \n",
       "\n",
       "   BldgDepth  BuiltFAR  FacilFAR  Lot  LotArea  LotDepth  NumBldgs  NumFloors  \\\n",
       "0       31.0      0.35       2.0   85     6813     125.0         2        2.5   \n",
       "1      101.0      4.37       6.5   29    13500     111.0         1        6.0   \n",
       "2      120.0      1.51       6.5    1    20800     120.0         2        2.0   \n",
       "3       96.0      5.83       6.5  114    12150     106.0         1        6.0   \n",
       "4       87.0      4.70       4.0   61    10000     100.0         1        5.0   \n",
       "\n",
       "   ResArea  ResidFAR  YearBuilt  YearAlter1  YearAlter2  \n",
       "0     2395      0.90       1920           0           0  \n",
       "1    56462      6.02       1941           0           0  \n",
       "2        0      6.02       1925           0           0  \n",
       "3    69000      6.02       1941           0           0  \n",
       "4    47000      4.00       1927           0           0  "
      ]
     },
     "execution_count": 13,
     "metadata": {},
     "output_type": "execute_result"
    }
   ],
   "source": [
    "# Join datasets (NYC311 and PLUTO BRONX)\n",
    "df_train_FINAL = df_training_1.merge(df_train_pluto_bx, on='Address', how='inner')\n",
    "\n",
    "#df_train_FINAL.describe()\n",
    "#df_train_FINAL.info()\n",
    "df_train_FINAL.head()"
   ]
  },
  {
   "cell_type": "markdown",
   "metadata": {},
   "source": [
    "#### 5j. DERIVE additional TARGET candidate variable that incorporates the PLUTO feature 'NumFloors'."
   ]
  },
  {
   "cell_type": "code",
   "execution_count": 14,
   "metadata": {},
   "outputs": [],
   "source": [
    "# Derive another TARGET_F (Ratio) variable by dividing 'TARGET' by 'NumFloors' variable.\n",
    "df_train_FINAL['TARGET_F'] = df_train_FINAL['TARGET']/df_train_FINAL['NumFloors']\n",
    "\n",
    "#df_train_FINAL.head()\n",
    "#df_train_FINAL.info()"
   ]
  },
  {
   "cell_type": "markdown",
   "metadata": {},
   "source": [
    "#### 5k. DERIVE additional FEATURES that incorporate the PLUTO feature 'NumFloors'."
   ]
  },
  {
   "cell_type": "code",
   "execution_count": 15,
   "metadata": {},
   "outputs": [],
   "source": [
    "# Derive new FEATURES by dividing features by 'NumFloors' variable.\n",
    "df_train_FINAL['R_Lot'] = df_train_FINAL['Lot']/df_train_FINAL['NumFloors']\n",
    "df_train_FINAL['R_LotArea'] = df_train_FINAL['LotArea']/df_train_FINAL['NumFloors']\n",
    "df_train_FINAL['R_LotDepth'] = df_train_FINAL['LotDepth']/df_train_FINAL['NumFloors']\n",
    "df_train_FINAL['R_BldgArea'] = df_train_FINAL['BldgArea']/df_train_FINAL['NumFloors']\n",
    "df_train_FINAL['R_BldgDepth'] = df_train_FINAL['BldgDepth']/df_train_FINAL['NumFloors']\n",
    "df_train_FINAL['R_ResArea'] = df_train_FINAL['ResArea']/df_train_FINAL['NumFloors']\n",
    "df_train_FINAL['R_BuiltFAR'] = df_train_FINAL['BuiltFAR']/df_train_FINAL['NumFloors']\n",
    "df_train_FINAL['R_FacilFAR'] = df_train_FINAL['FacilFAR']/df_train_FINAL['NumFloors']\n",
    "df_train_FINAL['R_ResidFAR'] = df_train_FINAL['ResidFAR']/df_train_FINAL['NumFloors']\n",
    "\n",
    "#df_train_FINAL.head()\n",
    "#df_train_FINAL.info()"
   ]
  },
  {
   "cell_type": "markdown",
   "metadata": {},
   "source": [
    "#### 5l. View PLUTO features 'YearBuilt',  'YearAlter1', 'YearAlter2'."
   ]
  },
  {
   "cell_type": "code",
   "execution_count": 16,
   "metadata": {},
   "outputs": [
    {
     "data": {
      "text/html": [
       "<div>\n",
       "<style scoped>\n",
       "    .dataframe tbody tr th:only-of-type {\n",
       "        vertical-align: middle;\n",
       "    }\n",
       "\n",
       "    .dataframe tbody tr th {\n",
       "        vertical-align: top;\n",
       "    }\n",
       "\n",
       "    .dataframe thead th {\n",
       "        text-align: right;\n",
       "    }\n",
       "</style>\n",
       "<table border=\"1\" class=\"dataframe\">\n",
       "  <thead>\n",
       "    <tr style=\"text-align: right;\">\n",
       "      <th></th>\n",
       "      <th>YearBuilt</th>\n",
       "      <th>YearAlter1</th>\n",
       "      <th>YearAlter2</th>\n",
       "    </tr>\n",
       "  </thead>\n",
       "  <tbody>\n",
       "    <tr>\n",
       "      <th>0</th>\n",
       "      <td>1920</td>\n",
       "      <td>0</td>\n",
       "      <td>0</td>\n",
       "    </tr>\n",
       "    <tr>\n",
       "      <th>1</th>\n",
       "      <td>1941</td>\n",
       "      <td>0</td>\n",
       "      <td>0</td>\n",
       "    </tr>\n",
       "    <tr>\n",
       "      <th>2</th>\n",
       "      <td>1925</td>\n",
       "      <td>0</td>\n",
       "      <td>0</td>\n",
       "    </tr>\n",
       "    <tr>\n",
       "      <th>3</th>\n",
       "      <td>1941</td>\n",
       "      <td>0</td>\n",
       "      <td>0</td>\n",
       "    </tr>\n",
       "    <tr>\n",
       "      <th>4</th>\n",
       "      <td>1927</td>\n",
       "      <td>0</td>\n",
       "      <td>0</td>\n",
       "    </tr>\n",
       "    <tr>\n",
       "      <th>5</th>\n",
       "      <td>1922</td>\n",
       "      <td>1996</td>\n",
       "      <td>0</td>\n",
       "    </tr>\n",
       "    <tr>\n",
       "      <th>6</th>\n",
       "      <td>1930</td>\n",
       "      <td>0</td>\n",
       "      <td>0</td>\n",
       "    </tr>\n",
       "    <tr>\n",
       "      <th>7</th>\n",
       "      <td>1907</td>\n",
       "      <td>0</td>\n",
       "      <td>0</td>\n",
       "    </tr>\n",
       "    <tr>\n",
       "      <th>8</th>\n",
       "      <td>1906</td>\n",
       "      <td>1960</td>\n",
       "      <td>2010</td>\n",
       "    </tr>\n",
       "    <tr>\n",
       "      <th>9</th>\n",
       "      <td>2007</td>\n",
       "      <td>0</td>\n",
       "      <td>0</td>\n",
       "    </tr>\n",
       "  </tbody>\n",
       "</table>\n",
       "</div>"
      ],
      "text/plain": [
       "   YearBuilt  YearAlter1  YearAlter2\n",
       "0       1920           0           0\n",
       "1       1941           0           0\n",
       "2       1925           0           0\n",
       "3       1941           0           0\n",
       "4       1927           0           0\n",
       "5       1922        1996           0\n",
       "6       1930           0           0\n",
       "7       1907           0           0\n",
       "8       1906        1960        2010\n",
       "9       2007           0           0"
      ]
     },
     "execution_count": 16,
     "metadata": {},
     "output_type": "execute_result"
    }
   ],
   "source": [
    "#Describe df_train_FINAL\n",
    "df_train_FINAL[['YearBuilt','YearAlter1','YearAlter2']].head(10)"
   ]
  },
  {
   "cell_type": "markdown",
   "metadata": {},
   "source": [
    "#### 5m. DERIVE  a dummy variable from 'YearAlter1' and 'YearAlter2' fields and Review Counts."
   ]
  },
  {
   "cell_type": "code",
   "execution_count": 17,
   "metadata": {},
   "outputs": [
    {
     "data": {
      "text/plain": [
       "0.0    4438\n",
       "1.0    1329\n",
       "2.0     157\n",
       "Name: YearAlter_Cat, dtype: int64"
      ]
     },
     "execution_count": 17,
     "metadata": {},
     "output_type": "execute_result"
    }
   ],
   "source": [
    "# DERIVE a dummy variable from 'YearAlter1' and 'YearAlter2' fields.\n",
    "df_train_FINAL.loc[df_train_FINAL['YearAlter1'] == 0, 'YearAlter_Cat'] = 0\n",
    "df_train_FINAL.loc[df_train_FINAL['YearAlter1'] > 0, 'YearAlter_Cat'] = 1\n",
    "df_train_FINAL.loc[df_train_FINAL['YearAlter2'] > 0, 'YearAlter_Cat'] = 2\n",
    "\n",
    "df_train_FINAL['YearAlter_Cat'].value_counts()"
   ]
  },
  {
   "cell_type": "markdown",
   "metadata": {},
   "source": [
    "This shows that:\n",
    "- 75% (4,438/5,924) of buildings were never altered\n",
    "- 22% (1,329/5,924) were altered 1 time\n",
    "- 3% (157/5,924) were altered 2+ times"
   ]
  },
  {
   "cell_type": "markdown",
   "metadata": {},
   "source": [
    "#### 5n. DERIVE AGE OF BUILDING feature using the 'YearBuilt' field."
   ]
  },
  {
   "cell_type": "code",
   "execution_count": 18,
   "metadata": {},
   "outputs": [],
   "source": [
    "# Derive AGE OF BUILDING feature by subtracting 'YearBuilt' field from 2018.\n",
    "df_train_FINAL['AgeBldg'] = 2018 - df_train_FINAL['YearBuilt']"
   ]
  },
  {
   "cell_type": "markdown",
   "metadata": {},
   "source": [
    "#### 5o. Run DESCRIPTIVES."
   ]
  },
  {
   "cell_type": "code",
   "execution_count": 19,
   "metadata": {},
   "outputs": [
    {
     "data": {
      "text/html": [
       "<div>\n",
       "<style scoped>\n",
       "    .dataframe tbody tr th:only-of-type {\n",
       "        vertical-align: middle;\n",
       "    }\n",
       "\n",
       "    .dataframe tbody tr th {\n",
       "        vertical-align: top;\n",
       "    }\n",
       "\n",
       "    .dataframe thead th {\n",
       "        text-align: right;\n",
       "    }\n",
       "</style>\n",
       "<table border=\"1\" class=\"dataframe\">\n",
       "  <thead>\n",
       "    <tr style=\"text-align: right;\">\n",
       "      <th></th>\n",
       "      <th>TARGET</th>\n",
       "      <th>TARGET_R</th>\n",
       "      <th>_Tot_Complaints</th>\n",
       "      <th>BldgArea</th>\n",
       "      <th>BldgDepth</th>\n",
       "      <th>BuiltFAR</th>\n",
       "      <th>FacilFAR</th>\n",
       "      <th>Lot</th>\n",
       "      <th>LotArea</th>\n",
       "      <th>LotDepth</th>\n",
       "      <th>...</th>\n",
       "      <th>R_LotArea</th>\n",
       "      <th>R_LotDepth</th>\n",
       "      <th>R_BldgArea</th>\n",
       "      <th>R_BldgDepth</th>\n",
       "      <th>R_ResArea</th>\n",
       "      <th>R_BuiltFAR</th>\n",
       "      <th>R_FacilFAR</th>\n",
       "      <th>R_ResidFAR</th>\n",
       "      <th>YearAlter_Cat</th>\n",
       "      <th>AgeBldg</th>\n",
       "    </tr>\n",
       "  </thead>\n",
       "  <tbody>\n",
       "    <tr>\n",
       "      <th>count</th>\n",
       "      <td>5924.000000</td>\n",
       "      <td>5924.000000</td>\n",
       "      <td>5924.000000</td>\n",
       "      <td>5.924000e+03</td>\n",
       "      <td>5924.000000</td>\n",
       "      <td>5924.000000</td>\n",
       "      <td>5924.00000</td>\n",
       "      <td>5924.000000</td>\n",
       "      <td>5.924000e+03</td>\n",
       "      <td>5924.000000</td>\n",
       "      <td>...</td>\n",
       "      <td>5924.000000</td>\n",
       "      <td>5924.000000</td>\n",
       "      <td>5924.000000</td>\n",
       "      <td>5924.000000</td>\n",
       "      <td>5924.000000</td>\n",
       "      <td>5924.000000</td>\n",
       "      <td>5924.000000</td>\n",
       "      <td>5924.000000</td>\n",
       "      <td>5924.000000</td>\n",
       "      <td>5924.000000</td>\n",
       "    </tr>\n",
       "    <tr>\n",
       "      <th>mean</th>\n",
       "      <td>35.322586</td>\n",
       "      <td>0.405928</td>\n",
       "      <td>101.938893</td>\n",
       "      <td>2.517797e+04</td>\n",
       "      <td>73.234588</td>\n",
       "      <td>2.788908</td>\n",
       "      <td>4.95608</td>\n",
       "      <td>87.771101</td>\n",
       "      <td>8.012881e+03</td>\n",
       "      <td>104.144229</td>\n",
       "      <td>...</td>\n",
       "      <td>1808.257283</td>\n",
       "      <td>30.240357</td>\n",
       "      <td>4704.142629</td>\n",
       "      <td>20.001710</td>\n",
       "      <td>4006.590621</td>\n",
       "      <td>0.650252</td>\n",
       "      <td>1.451591</td>\n",
       "      <td>1.081303</td>\n",
       "      <td>0.277346</td>\n",
       "      <td>86.959487</td>\n",
       "    </tr>\n",
       "    <tr>\n",
       "      <th>std</th>\n",
       "      <td>103.051922</td>\n",
       "      <td>0.326612</td>\n",
       "      <td>212.482262</td>\n",
       "      <td>4.957558e+04</td>\n",
       "      <td>31.331456</td>\n",
       "      <td>1.624045</td>\n",
       "      <td>1.22365</td>\n",
       "      <td>491.243073</td>\n",
       "      <td>4.591190e+04</td>\n",
       "      <td>37.213381</td>\n",
       "      <td>...</td>\n",
       "      <td>7731.092239</td>\n",
       "      <td>17.344907</td>\n",
       "      <td>6758.969450</td>\n",
       "      <td>11.474121</td>\n",
       "      <td>4845.221307</td>\n",
       "      <td>0.211623</td>\n",
       "      <td>0.839054</td>\n",
       "      <td>0.729771</td>\n",
       "      <td>0.503461</td>\n",
       "      <td>30.822788</td>\n",
       "    </tr>\n",
       "    <tr>\n",
       "      <th>min</th>\n",
       "      <td>0.000000</td>\n",
       "      <td>0.000000</td>\n",
       "      <td>1.000000</td>\n",
       "      <td>4.500000e+02</td>\n",
       "      <td>9.830000</td>\n",
       "      <td>0.030000</td>\n",
       "      <td>2.00000</td>\n",
       "      <td>1.000000</td>\n",
       "      <td>6.950000e+02</td>\n",
       "      <td>11.580000</td>\n",
       "      <td>...</td>\n",
       "      <td>168.888889</td>\n",
       "      <td>1.930000</td>\n",
       "      <td>292.500000</td>\n",
       "      <td>1.285714</td>\n",
       "      <td>0.000000</td>\n",
       "      <td>0.030000</td>\n",
       "      <td>0.192000</td>\n",
       "      <td>0.135000</td>\n",
       "      <td>0.000000</td>\n",
       "      <td>1.000000</td>\n",
       "    </tr>\n",
       "    <tr>\n",
       "      <th>25%</th>\n",
       "      <td>1.000000</td>\n",
       "      <td>0.146585</td>\n",
       "      <td>5.000000</td>\n",
       "      <td>3.120000e+03</td>\n",
       "      <td>53.000000</td>\n",
       "      <td>1.330000</td>\n",
       "      <td>4.80000</td>\n",
       "      <td>18.000000</td>\n",
       "      <td>2.375000e+03</td>\n",
       "      <td>91.882500</td>\n",
       "      <td>...</td>\n",
       "      <td>778.533333</td>\n",
       "      <td>19.166667</td>\n",
       "      <td>1170.000000</td>\n",
       "      <td>14.666667</td>\n",
       "      <td>1040.000000</td>\n",
       "      <td>0.505000</td>\n",
       "      <td>0.960000</td>\n",
       "      <td>0.607500</td>\n",
       "      <td>0.000000</td>\n",
       "      <td>87.000000</td>\n",
       "    </tr>\n",
       "    <tr>\n",
       "      <th>50%</th>\n",
       "      <td>7.000000</td>\n",
       "      <td>0.331813</td>\n",
       "      <td>24.000000</td>\n",
       "      <td>1.049000e+04</td>\n",
       "      <td>70.000000</td>\n",
       "      <td>2.760000</td>\n",
       "      <td>4.80000</td>\n",
       "      <td>40.000000</td>\n",
       "      <td>3.924500e+03</td>\n",
       "      <td>100.000000</td>\n",
       "      <td>...</td>\n",
       "      <td>1120.500000</td>\n",
       "      <td>25.000000</td>\n",
       "      <td>2501.666667</td>\n",
       "      <td>17.600000</td>\n",
       "      <td>2027.500000</td>\n",
       "      <td>0.672000</td>\n",
       "      <td>1.200000</td>\n",
       "      <td>1.000000</td>\n",
       "      <td>0.000000</td>\n",
       "      <td>94.000000</td>\n",
       "    </tr>\n",
       "    <tr>\n",
       "      <th>75%</th>\n",
       "      <td>32.000000</td>\n",
       "      <td>0.607531</td>\n",
       "      <td>111.000000</td>\n",
       "      <td>3.398800e+04</td>\n",
       "      <td>88.000000</td>\n",
       "      <td>4.130000</td>\n",
       "      <td>6.50000</td>\n",
       "      <td>68.000000</td>\n",
       "      <td>9.000000e+03</td>\n",
       "      <td>108.000000</td>\n",
       "      <td>...</td>\n",
       "      <td>1818.181818</td>\n",
       "      <td>37.200500</td>\n",
       "      <td>6573.000000</td>\n",
       "      <td>21.666667</td>\n",
       "      <td>5811.207143</td>\n",
       "      <td>0.800000</td>\n",
       "      <td>1.600000</td>\n",
       "      <td>1.204000</td>\n",
       "      <td>1.000000</td>\n",
       "      <td>107.000000</td>\n",
       "    </tr>\n",
       "    <tr>\n",
       "      <th>max</th>\n",
       "      <td>2946.000000</td>\n",
       "      <td>1.000000</td>\n",
       "      <td>3921.000000</td>\n",
       "      <td>1.743584e+06</td>\n",
       "      <td>950.000000</td>\n",
       "      <td>29.040000</td>\n",
       "      <td>10.00000</td>\n",
       "      <td>9100.000000</td>\n",
       "      <td>3.392065e+06</td>\n",
       "      <td>972.330000</td>\n",
       "      <td>...</td>\n",
       "      <td>565344.166667</td>\n",
       "      <td>279.500000</td>\n",
       "      <td>290597.333333</td>\n",
       "      <td>188.000000</td>\n",
       "      <td>132728.000000</td>\n",
       "      <td>4.148571</td>\n",
       "      <td>7.520000</td>\n",
       "      <td>7.520000</td>\n",
       "      <td>2.000000</td>\n",
       "      <td>127.000000</td>\n",
       "    </tr>\n",
       "  </tbody>\n",
       "</table>\n",
       "<p>8 rows × 29 columns</p>\n",
       "</div>"
      ],
      "text/plain": [
       "            TARGET     TARGET_R  _Tot_Complaints      BldgArea    BldgDepth  \\\n",
       "count  5924.000000  5924.000000      5924.000000  5.924000e+03  5924.000000   \n",
       "mean     35.322586     0.405928       101.938893  2.517797e+04    73.234588   \n",
       "std     103.051922     0.326612       212.482262  4.957558e+04    31.331456   \n",
       "min       0.000000     0.000000         1.000000  4.500000e+02     9.830000   \n",
       "25%       1.000000     0.146585         5.000000  3.120000e+03    53.000000   \n",
       "50%       7.000000     0.331813        24.000000  1.049000e+04    70.000000   \n",
       "75%      32.000000     0.607531       111.000000  3.398800e+04    88.000000   \n",
       "max    2946.000000     1.000000      3921.000000  1.743584e+06   950.000000   \n",
       "\n",
       "          BuiltFAR    FacilFAR          Lot       LotArea     LotDepth  ...  \\\n",
       "count  5924.000000  5924.00000  5924.000000  5.924000e+03  5924.000000  ...   \n",
       "mean      2.788908     4.95608    87.771101  8.012881e+03   104.144229  ...   \n",
       "std       1.624045     1.22365   491.243073  4.591190e+04    37.213381  ...   \n",
       "min       0.030000     2.00000     1.000000  6.950000e+02    11.580000  ...   \n",
       "25%       1.330000     4.80000    18.000000  2.375000e+03    91.882500  ...   \n",
       "50%       2.760000     4.80000    40.000000  3.924500e+03   100.000000  ...   \n",
       "75%       4.130000     6.50000    68.000000  9.000000e+03   108.000000  ...   \n",
       "max      29.040000    10.00000  9100.000000  3.392065e+06   972.330000  ...   \n",
       "\n",
       "           R_LotArea   R_LotDepth     R_BldgArea  R_BldgDepth      R_ResArea  \\\n",
       "count    5924.000000  5924.000000    5924.000000  5924.000000    5924.000000   \n",
       "mean     1808.257283    30.240357    4704.142629    20.001710    4006.590621   \n",
       "std      7731.092239    17.344907    6758.969450    11.474121    4845.221307   \n",
       "min       168.888889     1.930000     292.500000     1.285714       0.000000   \n",
       "25%       778.533333    19.166667    1170.000000    14.666667    1040.000000   \n",
       "50%      1120.500000    25.000000    2501.666667    17.600000    2027.500000   \n",
       "75%      1818.181818    37.200500    6573.000000    21.666667    5811.207143   \n",
       "max    565344.166667   279.500000  290597.333333   188.000000  132728.000000   \n",
       "\n",
       "        R_BuiltFAR   R_FacilFAR   R_ResidFAR  YearAlter_Cat      AgeBldg  \n",
       "count  5924.000000  5924.000000  5924.000000    5924.000000  5924.000000  \n",
       "mean      0.650252     1.451591     1.081303       0.277346    86.959487  \n",
       "std       0.211623     0.839054     0.729771       0.503461    30.822788  \n",
       "min       0.030000     0.192000     0.135000       0.000000     1.000000  \n",
       "25%       0.505000     0.960000     0.607500       0.000000    87.000000  \n",
       "50%       0.672000     1.200000     1.000000       0.000000    94.000000  \n",
       "75%       0.800000     1.600000     1.204000       1.000000   107.000000  \n",
       "max       4.148571     7.520000     7.520000       2.000000   127.000000  \n",
       "\n",
       "[8 rows x 29 columns]"
      ]
     },
     "execution_count": 19,
     "metadata": {},
     "output_type": "execute_result"
    }
   ],
   "source": [
    "#Describe df_train_FINAL\n",
    "df_train_FINAL.describe(include=np.number)\n",
    "#df_train_FINAL.info()\n",
    "#df_train_FINAL.corr()"
   ]
  },
  {
   "cell_type": "markdown",
   "metadata": {},
   "source": [
    "## 6. Exploratory Data Analysis"
   ]
  },
  {
   "cell_type": "markdown",
   "metadata": {},
   "source": [
    "#### 6a. Scale Variables Using Z-Score."
   ]
  },
  {
   "cell_type": "code",
   "execution_count": 20,
   "metadata": {},
   "outputs": [],
   "source": [
    "# Standardze Features\n",
    "from sklearn import preprocessing\n",
    "from sklearn.preprocessing import StandardScaler\n",
    "from sklearn.preprocessing import RobustScaler\n",
    "from sklearn.preprocessing import PowerTransformer\n",
    "from sklearn.preprocessing import MinMaxScaler\n",
    "import scipy as sp\n",
    "from scipy import stats\n",
    "import numpy as np\n",
    "\n",
    "df_zscore = df_train_FINAL[['TARGET','TARGET_R','TARGET_F','_Tot_Complaints','BldgArea','BldgDepth','BuiltFAR','FacilFAR','NumBldgs',\n",
    "                            'NumFloors','Lot','LotArea','LotDepth','ResArea','ResidFAR','R_BuiltFAR','R_FacilFAR','R_Lot',\n",
    "                            'R_LotArea','R_LotDepth','R_BldgArea','R_BldgDepth','R_ResArea','R_ResidFAR','AgeBldg']]\n",
    "\n",
    "z = np.abs(stats.zscore(df_zscore))\n",
    "\n",
    "#df_zscore.head()\n",
    "#df_zscore.info()"
   ]
  },
  {
   "cell_type": "markdown",
   "metadata": {},
   "source": [
    "#### 6b. Remove OUTLIERS Using Z-Scores and display initial CORRELATION matrix."
   ]
  },
  {
   "cell_type": "code",
   "execution_count": 21,
   "metadata": {},
   "outputs": [
    {
     "data": {
      "text/html": [
       "<div>\n",
       "<style scoped>\n",
       "    .dataframe tbody tr th:only-of-type {\n",
       "        vertical-align: middle;\n",
       "    }\n",
       "\n",
       "    .dataframe tbody tr th {\n",
       "        vertical-align: top;\n",
       "    }\n",
       "\n",
       "    .dataframe thead th {\n",
       "        text-align: right;\n",
       "    }\n",
       "</style>\n",
       "<table border=\"1\" class=\"dataframe\">\n",
       "  <thead>\n",
       "    <tr style=\"text-align: right;\">\n",
       "      <th></th>\n",
       "      <th>TARGET</th>\n",
       "      <th>TARGET_R</th>\n",
       "      <th>TARGET_F</th>\n",
       "      <th>_Tot_Complaints</th>\n",
       "      <th>BldgArea</th>\n",
       "      <th>BldgDepth</th>\n",
       "      <th>BuiltFAR</th>\n",
       "      <th>FacilFAR</th>\n",
       "      <th>NumBldgs</th>\n",
       "      <th>NumFloors</th>\n",
       "      <th>...</th>\n",
       "      <th>R_BuiltFAR</th>\n",
       "      <th>R_FacilFAR</th>\n",
       "      <th>R_Lot</th>\n",
       "      <th>R_LotArea</th>\n",
       "      <th>R_LotDepth</th>\n",
       "      <th>R_BldgArea</th>\n",
       "      <th>R_BldgDepth</th>\n",
       "      <th>R_ResArea</th>\n",
       "      <th>R_ResidFAR</th>\n",
       "      <th>AgeBldg</th>\n",
       "    </tr>\n",
       "  </thead>\n",
       "  <tbody>\n",
       "    <tr>\n",
       "      <th>TARGET</th>\n",
       "      <td>1.000000</td>\n",
       "      <td>0.066433</td>\n",
       "      <td>0.973417</td>\n",
       "      <td>0.830854</td>\n",
       "      <td>0.509707</td>\n",
       "      <td>0.410576</td>\n",
       "      <td>0.440713</td>\n",
       "      <td>0.138566</td>\n",
       "      <td>-0.084739</td>\n",
       "      <td>0.460137</td>\n",
       "      <td>...</td>\n",
       "      <td>0.265496</td>\n",
       "      <td>-0.317011</td>\n",
       "      <td>-0.180531</td>\n",
       "      <td>0.257365</td>\n",
       "      <td>-0.334527</td>\n",
       "      <td>0.502380</td>\n",
       "      <td>-0.148149</td>\n",
       "      <td>0.532015</td>\n",
       "      <td>-0.227614</td>\n",
       "      <td>0.046381</td>\n",
       "    </tr>\n",
       "    <tr>\n",
       "      <th>TARGET_R</th>\n",
       "      <td>0.066433</td>\n",
       "      <td>1.000000</td>\n",
       "      <td>0.082848</td>\n",
       "      <td>-0.158149</td>\n",
       "      <td>-0.060822</td>\n",
       "      <td>-0.070225</td>\n",
       "      <td>-0.087021</td>\n",
       "      <td>-0.017085</td>\n",
       "      <td>0.024089</td>\n",
       "      <td>-0.075733</td>\n",
       "      <td>...</td>\n",
       "      <td>-0.069161</td>\n",
       "      <td>0.067817</td>\n",
       "      <td>0.050671</td>\n",
       "      <td>-0.005144</td>\n",
       "      <td>0.063318</td>\n",
       "      <td>-0.057195</td>\n",
       "      <td>0.032921</td>\n",
       "      <td>-0.073441</td>\n",
       "      <td>0.050418</td>\n",
       "      <td>-0.030903</td>\n",
       "    </tr>\n",
       "    <tr>\n",
       "      <th>TARGET_F</th>\n",
       "      <td>0.973417</td>\n",
       "      <td>0.082848</td>\n",
       "      <td>1.000000</td>\n",
       "      <td>0.806228</td>\n",
       "      <td>0.423138</td>\n",
       "      <td>0.362550</td>\n",
       "      <td>0.367450</td>\n",
       "      <td>0.124528</td>\n",
       "      <td>-0.075450</td>\n",
       "      <td>0.370446</td>\n",
       "      <td>...</td>\n",
       "      <td>0.239107</td>\n",
       "      <td>-0.255036</td>\n",
       "      <td>-0.157991</td>\n",
       "      <td>0.225548</td>\n",
       "      <td>-0.271104</td>\n",
       "      <td>0.428290</td>\n",
       "      <td>-0.096189</td>\n",
       "      <td>0.456127</td>\n",
       "      <td>-0.179767</td>\n",
       "      <td>0.076644</td>\n",
       "    </tr>\n",
       "    <tr>\n",
       "      <th>_Tot_Complaints</th>\n",
       "      <td>0.830854</td>\n",
       "      <td>-0.158149</td>\n",
       "      <td>0.806228</td>\n",
       "      <td>1.000000</td>\n",
       "      <td>0.535606</td>\n",
       "      <td>0.446114</td>\n",
       "      <td>0.484966</td>\n",
       "      <td>0.161002</td>\n",
       "      <td>-0.090619</td>\n",
       "      <td>0.497057</td>\n",
       "      <td>...</td>\n",
       "      <td>0.301991</td>\n",
       "      <td>-0.342997</td>\n",
       "      <td>-0.196628</td>\n",
       "      <td>0.258195</td>\n",
       "      <td>-0.371391</td>\n",
       "      <td>0.530678</td>\n",
       "      <td>-0.161833</td>\n",
       "      <td>0.564236</td>\n",
       "      <td>-0.244134</td>\n",
       "      <td>0.068703</td>\n",
       "    </tr>\n",
       "    <tr>\n",
       "      <th>BldgArea</th>\n",
       "      <td>0.509707</td>\n",
       "      <td>-0.060822</td>\n",
       "      <td>0.423138</td>\n",
       "      <td>0.535606</td>\n",
       "      <td>1.000000</td>\n",
       "      <td>0.662039</td>\n",
       "      <td>0.720240</td>\n",
       "      <td>0.204793</td>\n",
       "      <td>-0.068755</td>\n",
       "      <td>0.781310</td>\n",
       "      <td>...</td>\n",
       "      <td>0.402799</td>\n",
       "      <td>-0.513653</td>\n",
       "      <td>-0.257098</td>\n",
       "      <td>0.615353</td>\n",
       "      <td>-0.508415</td>\n",
       "      <td>0.976588</td>\n",
       "      <td>-0.233562</td>\n",
       "      <td>0.957452</td>\n",
       "      <td>-0.368855</td>\n",
       "      <td>-0.072419</td>\n",
       "    </tr>\n",
       "    <tr>\n",
       "      <th>BldgDepth</th>\n",
       "      <td>0.410576</td>\n",
       "      <td>-0.070225</td>\n",
       "      <td>0.362550</td>\n",
       "      <td>0.446114</td>\n",
       "      <td>0.662039</td>\n",
       "      <td>1.000000</td>\n",
       "      <td>0.668869</td>\n",
       "      <td>0.202551</td>\n",
       "      <td>-0.122896</td>\n",
       "      <td>0.652025</td>\n",
       "      <td>...</td>\n",
       "      <td>0.503232</td>\n",
       "      <td>-0.451081</td>\n",
       "      <td>-0.254638</td>\n",
       "      <td>0.399225</td>\n",
       "      <td>-0.353511</td>\n",
       "      <td>0.688758</td>\n",
       "      <td>0.217696</td>\n",
       "      <td>0.661237</td>\n",
       "      <td>-0.331101</td>\n",
       "      <td>0.101617</td>\n",
       "    </tr>\n",
       "    <tr>\n",
       "      <th>BuiltFAR</th>\n",
       "      <td>0.440713</td>\n",
       "      <td>-0.087021</td>\n",
       "      <td>0.367450</td>\n",
       "      <td>0.484966</td>\n",
       "      <td>0.720240</td>\n",
       "      <td>0.668869</td>\n",
       "      <td>1.000000</td>\n",
       "      <td>0.201053</td>\n",
       "      <td>-0.205619</td>\n",
       "      <td>0.897031</td>\n",
       "      <td>...</td>\n",
       "      <td>0.798955</td>\n",
       "      <td>-0.670406</td>\n",
       "      <td>-0.364919</td>\n",
       "      <td>0.133941</td>\n",
       "      <td>-0.792153</td>\n",
       "      <td>0.687774</td>\n",
       "      <td>-0.385884</td>\n",
       "      <td>0.715665</td>\n",
       "      <td>-0.513898</td>\n",
       "      <td>-0.005109</td>\n",
       "    </tr>\n",
       "    <tr>\n",
       "      <th>FacilFAR</th>\n",
       "      <td>0.138566</td>\n",
       "      <td>-0.017085</td>\n",
       "      <td>0.124528</td>\n",
       "      <td>0.161002</td>\n",
       "      <td>0.204793</td>\n",
       "      <td>0.202551</td>\n",
       "      <td>0.201053</td>\n",
       "      <td>1.000000</td>\n",
       "      <td>-0.048586</td>\n",
       "      <td>0.212441</td>\n",
       "      <td>...</td>\n",
       "      <td>0.132925</td>\n",
       "      <td>0.390475</td>\n",
       "      <td>-0.250645</td>\n",
       "      <td>0.085559</td>\n",
       "      <td>-0.173714</td>\n",
       "      <td>0.203886</td>\n",
       "      <td>-0.056108</td>\n",
       "      <td>0.204071</td>\n",
       "      <td>0.460549</td>\n",
       "      <td>0.017383</td>\n",
       "    </tr>\n",
       "    <tr>\n",
       "      <th>NumBldgs</th>\n",
       "      <td>-0.084739</td>\n",
       "      <td>0.024089</td>\n",
       "      <td>-0.075450</td>\n",
       "      <td>-0.090619</td>\n",
       "      <td>-0.068755</td>\n",
       "      <td>-0.122896</td>\n",
       "      <td>-0.205619</td>\n",
       "      <td>-0.048586</td>\n",
       "      <td>1.000000</td>\n",
       "      <td>-0.142038</td>\n",
       "      <td>...</td>\n",
       "      <td>-0.256377</td>\n",
       "      <td>0.096322</td>\n",
       "      <td>0.048584</td>\n",
       "      <td>0.155935</td>\n",
       "      <td>0.174569</td>\n",
       "      <td>-0.052349</td>\n",
       "      <td>0.039284</td>\n",
       "      <td>-0.079962</td>\n",
       "      <td>0.062220</td>\n",
       "      <td>0.070419</td>\n",
       "    </tr>\n",
       "    <tr>\n",
       "      <th>NumFloors</th>\n",
       "      <td>0.460137</td>\n",
       "      <td>-0.075733</td>\n",
       "      <td>0.370446</td>\n",
       "      <td>0.497057</td>\n",
       "      <td>0.781310</td>\n",
       "      <td>0.652025</td>\n",
       "      <td>0.897031</td>\n",
       "      <td>0.212441</td>\n",
       "      <td>-0.142038</td>\n",
       "      <td>1.000000</td>\n",
       "      <td>...</td>\n",
       "      <td>0.491482</td>\n",
       "      <td>-0.749220</td>\n",
       "      <td>-0.384447</td>\n",
       "      <td>0.236267</td>\n",
       "      <td>-0.802827</td>\n",
       "      <td>0.711856</td>\n",
       "      <td>-0.525754</td>\n",
       "      <td>0.738036</td>\n",
       "      <td>-0.587515</td>\n",
       "      <td>-0.100426</td>\n",
       "    </tr>\n",
       "    <tr>\n",
       "      <th>Lot</th>\n",
       "      <td>-0.077703</td>\n",
       "      <td>0.034218</td>\n",
       "      <td>-0.077053</td>\n",
       "      <td>-0.082813</td>\n",
       "      <td>-0.076513</td>\n",
       "      <td>-0.117020</td>\n",
       "      <td>-0.151211</td>\n",
       "      <td>-0.217084</td>\n",
       "      <td>0.007824</td>\n",
       "      <td>-0.142667</td>\n",
       "      <td>...</td>\n",
       "      <td>-0.127860</td>\n",
       "      <td>-0.008958</td>\n",
       "      <td>0.907605</td>\n",
       "      <td>0.011492</td>\n",
       "      <td>0.145018</td>\n",
       "      <td>-0.074772</td>\n",
       "      <td>0.069568</td>\n",
       "      <td>-0.072912</td>\n",
       "      <td>-0.047933</td>\n",
       "      <td>-0.195532</td>\n",
       "    </tr>\n",
       "    <tr>\n",
       "      <th>LotArea</th>\n",
       "      <td>0.420037</td>\n",
       "      <td>-0.038299</td>\n",
       "      <td>0.351931</td>\n",
       "      <td>0.431451</td>\n",
       "      <td>0.880181</td>\n",
       "      <td>0.567823</td>\n",
       "      <td>0.457606</td>\n",
       "      <td>0.159852</td>\n",
       "      <td>0.051200</td>\n",
       "      <td>0.603049</td>\n",
       "      <td>...</td>\n",
       "      <td>0.149413</td>\n",
       "      <td>-0.390604</td>\n",
       "      <td>-0.183699</td>\n",
       "      <td>0.873374</td>\n",
       "      <td>-0.304681</td>\n",
       "      <td>0.900708</td>\n",
       "      <td>-0.112845</td>\n",
       "      <td>0.791707</td>\n",
       "      <td>-0.276596</td>\n",
       "      <td>-0.073387</td>\n",
       "    </tr>\n",
       "    <tr>\n",
       "      <th>LotDepth</th>\n",
       "      <td>0.142025</td>\n",
       "      <td>-0.008596</td>\n",
       "      <td>0.122607</td>\n",
       "      <td>0.134524</td>\n",
       "      <td>0.295082</td>\n",
       "      <td>0.491325</td>\n",
       "      <td>0.013821</td>\n",
       "      <td>0.036076</td>\n",
       "      <td>0.071121</td>\n",
       "      <td>0.181743</td>\n",
       "      <td>...</td>\n",
       "      <td>-0.214402</td>\n",
       "      <td>-0.113644</td>\n",
       "      <td>-0.026638</td>\n",
       "      <td>0.416700</td>\n",
       "      <td>0.339739</td>\n",
       "      <td>0.310518</td>\n",
       "      <td>0.253546</td>\n",
       "      <td>0.257235</td>\n",
       "      <td>-0.108673</td>\n",
       "      <td>0.017544</td>\n",
       "    </tr>\n",
       "    <tr>\n",
       "      <th>ResArea</th>\n",
       "      <td>0.523693</td>\n",
       "      <td>-0.068424</td>\n",
       "      <td>0.437130</td>\n",
       "      <td>0.551468</td>\n",
       "      <td>0.976048</td>\n",
       "      <td>0.642659</td>\n",
       "      <td>0.726668</td>\n",
       "      <td>0.205149</td>\n",
       "      <td>-0.085838</td>\n",
       "      <td>0.779220</td>\n",
       "      <td>...</td>\n",
       "      <td>0.407310</td>\n",
       "      <td>-0.514996</td>\n",
       "      <td>-0.254539</td>\n",
       "      <td>0.505907</td>\n",
       "      <td>-0.524795</td>\n",
       "      <td>0.935066</td>\n",
       "      <td>-0.260473</td>\n",
       "      <td>0.986182</td>\n",
       "      <td>-0.372640</td>\n",
       "      <td>-0.058567</td>\n",
       "    </tr>\n",
       "    <tr>\n",
       "      <th>ResidFAR</th>\n",
       "      <td>0.177185</td>\n",
       "      <td>-0.025355</td>\n",
       "      <td>0.157049</td>\n",
       "      <td>0.203005</td>\n",
       "      <td>0.278141</td>\n",
       "      <td>0.232445</td>\n",
       "      <td>0.249331</td>\n",
       "      <td>0.824253</td>\n",
       "      <td>-0.056676</td>\n",
       "      <td>0.253073</td>\n",
       "      <td>...</td>\n",
       "      <td>0.167538</td>\n",
       "      <td>0.252585</td>\n",
       "      <td>-0.228602</td>\n",
       "      <td>0.137185</td>\n",
       "      <td>-0.204824</td>\n",
       "      <td>0.278940</td>\n",
       "      <td>-0.060274</td>\n",
       "      <td>0.276139</td>\n",
       "      <td>0.546962</td>\n",
       "      <td>0.047299</td>\n",
       "    </tr>\n",
       "    <tr>\n",
       "      <th>R_BuiltFAR</th>\n",
       "      <td>0.265496</td>\n",
       "      <td>-0.069161</td>\n",
       "      <td>0.239107</td>\n",
       "      <td>0.301991</td>\n",
       "      <td>0.402799</td>\n",
       "      <td>0.503232</td>\n",
       "      <td>0.798955</td>\n",
       "      <td>0.132925</td>\n",
       "      <td>-0.256377</td>\n",
       "      <td>0.491482</td>\n",
       "      <td>...</td>\n",
       "      <td>1.000000</td>\n",
       "      <td>-0.359427</td>\n",
       "      <td>-0.242715</td>\n",
       "      <td>-0.039608</td>\n",
       "      <td>-0.563882</td>\n",
       "      <td>0.431571</td>\n",
       "      <td>-0.047582</td>\n",
       "      <td>0.433628</td>\n",
       "      <td>-0.257512</td>\n",
       "      <td>0.068711</td>\n",
       "    </tr>\n",
       "    <tr>\n",
       "      <th>R_FacilFAR</th>\n",
       "      <td>-0.317011</td>\n",
       "      <td>0.067817</td>\n",
       "      <td>-0.255036</td>\n",
       "      <td>-0.342997</td>\n",
       "      <td>-0.513653</td>\n",
       "      <td>-0.451081</td>\n",
       "      <td>-0.670406</td>\n",
       "      <td>0.390475</td>\n",
       "      <td>0.096322</td>\n",
       "      <td>-0.749220</td>\n",
       "      <td>...</td>\n",
       "      <td>-0.359427</td>\n",
       "      <td>1.000000</td>\n",
       "      <td>0.195053</td>\n",
       "      <td>-0.104617</td>\n",
       "      <td>0.681037</td>\n",
       "      <td>-0.467245</td>\n",
       "      <td>0.505347</td>\n",
       "      <td>-0.496840</td>\n",
       "      <td>0.890838</td>\n",
       "      <td>0.098530</td>\n",
       "    </tr>\n",
       "    <tr>\n",
       "      <th>R_Lot</th>\n",
       "      <td>-0.180531</td>\n",
       "      <td>0.050671</td>\n",
       "      <td>-0.157991</td>\n",
       "      <td>-0.196628</td>\n",
       "      <td>-0.257098</td>\n",
       "      <td>-0.254638</td>\n",
       "      <td>-0.364919</td>\n",
       "      <td>-0.250645</td>\n",
       "      <td>0.048584</td>\n",
       "      <td>-0.384447</td>\n",
       "      <td>...</td>\n",
       "      <td>-0.242715</td>\n",
       "      <td>0.195053</td>\n",
       "      <td>1.000000</td>\n",
       "      <td>-0.031196</td>\n",
       "      <td>0.372905</td>\n",
       "      <td>-0.241131</td>\n",
       "      <td>0.245673</td>\n",
       "      <td>-0.245851</td>\n",
       "      <td>0.121310</td>\n",
       "      <td>-0.146636</td>\n",
       "    </tr>\n",
       "    <tr>\n",
       "      <th>R_LotArea</th>\n",
       "      <td>0.257365</td>\n",
       "      <td>-0.005144</td>\n",
       "      <td>0.225548</td>\n",
       "      <td>0.258195</td>\n",
       "      <td>0.615353</td>\n",
       "      <td>0.399225</td>\n",
       "      <td>0.133941</td>\n",
       "      <td>0.085559</td>\n",
       "      <td>0.155935</td>\n",
       "      <td>0.236267</td>\n",
       "      <td>...</td>\n",
       "      <td>-0.039608</td>\n",
       "      <td>-0.104617</td>\n",
       "      <td>-0.031196</td>\n",
       "      <td>1.000000</td>\n",
       "      <td>0.056145</td>\n",
       "      <td>0.710086</td>\n",
       "      <td>0.187250</td>\n",
       "      <td>0.520798</td>\n",
       "      <td>-0.044460</td>\n",
       "      <td>-0.009400</td>\n",
       "    </tr>\n",
       "    <tr>\n",
       "      <th>R_LotDepth</th>\n",
       "      <td>-0.334527</td>\n",
       "      <td>0.063318</td>\n",
       "      <td>-0.271104</td>\n",
       "      <td>-0.371391</td>\n",
       "      <td>-0.508415</td>\n",
       "      <td>-0.353511</td>\n",
       "      <td>-0.792153</td>\n",
       "      <td>-0.173714</td>\n",
       "      <td>0.174569</td>\n",
       "      <td>-0.802827</td>\n",
       "      <td>...</td>\n",
       "      <td>-0.563882</td>\n",
       "      <td>0.681037</td>\n",
       "      <td>0.372905</td>\n",
       "      <td>0.056145</td>\n",
       "      <td>1.000000</td>\n",
       "      <td>-0.449117</td>\n",
       "      <td>0.683679</td>\n",
       "      <td>-0.502013</td>\n",
       "      <td>0.532607</td>\n",
       "      <td>0.119961</td>\n",
       "    </tr>\n",
       "    <tr>\n",
       "      <th>R_BldgArea</th>\n",
       "      <td>0.502380</td>\n",
       "      <td>-0.057195</td>\n",
       "      <td>0.428290</td>\n",
       "      <td>0.530678</td>\n",
       "      <td>0.976588</td>\n",
       "      <td>0.688758</td>\n",
       "      <td>0.687774</td>\n",
       "      <td>0.203886</td>\n",
       "      <td>-0.052349</td>\n",
       "      <td>0.711856</td>\n",
       "      <td>...</td>\n",
       "      <td>0.431571</td>\n",
       "      <td>-0.467245</td>\n",
       "      <td>-0.241131</td>\n",
       "      <td>0.710086</td>\n",
       "      <td>-0.449117</td>\n",
       "      <td>1.000000</td>\n",
       "      <td>-0.129515</td>\n",
       "      <td>0.941366</td>\n",
       "      <td>-0.325069</td>\n",
       "      <td>-0.034505</td>\n",
       "    </tr>\n",
       "    <tr>\n",
       "      <th>R_BldgDepth</th>\n",
       "      <td>-0.148149</td>\n",
       "      <td>0.032921</td>\n",
       "      <td>-0.096189</td>\n",
       "      <td>-0.161833</td>\n",
       "      <td>-0.233562</td>\n",
       "      <td>0.217696</td>\n",
       "      <td>-0.385884</td>\n",
       "      <td>-0.056108</td>\n",
       "      <td>0.039284</td>\n",
       "      <td>-0.525754</td>\n",
       "      <td>...</td>\n",
       "      <td>-0.047582</td>\n",
       "      <td>0.505347</td>\n",
       "      <td>0.245673</td>\n",
       "      <td>0.187250</td>\n",
       "      <td>0.683679</td>\n",
       "      <td>-0.129515</td>\n",
       "      <td>1.000000</td>\n",
       "      <td>-0.211001</td>\n",
       "      <td>0.432295</td>\n",
       "      <td>0.203581</td>\n",
       "    </tr>\n",
       "    <tr>\n",
       "      <th>R_ResArea</th>\n",
       "      <td>0.532015</td>\n",
       "      <td>-0.073441</td>\n",
       "      <td>0.456127</td>\n",
       "      <td>0.564236</td>\n",
       "      <td>0.957452</td>\n",
       "      <td>0.661237</td>\n",
       "      <td>0.715665</td>\n",
       "      <td>0.204071</td>\n",
       "      <td>-0.079962</td>\n",
       "      <td>0.738036</td>\n",
       "      <td>...</td>\n",
       "      <td>0.433628</td>\n",
       "      <td>-0.496840</td>\n",
       "      <td>-0.245851</td>\n",
       "      <td>0.520798</td>\n",
       "      <td>-0.502013</td>\n",
       "      <td>0.941366</td>\n",
       "      <td>-0.211001</td>\n",
       "      <td>1.000000</td>\n",
       "      <td>-0.355913</td>\n",
       "      <td>-0.020157</td>\n",
       "    </tr>\n",
       "    <tr>\n",
       "      <th>R_ResidFAR</th>\n",
       "      <td>-0.227614</td>\n",
       "      <td>0.050418</td>\n",
       "      <td>-0.179767</td>\n",
       "      <td>-0.244134</td>\n",
       "      <td>-0.368855</td>\n",
       "      <td>-0.331101</td>\n",
       "      <td>-0.513898</td>\n",
       "      <td>0.460549</td>\n",
       "      <td>0.062220</td>\n",
       "      <td>-0.587515</td>\n",
       "      <td>...</td>\n",
       "      <td>-0.257512</td>\n",
       "      <td>0.890838</td>\n",
       "      <td>0.121310</td>\n",
       "      <td>-0.044460</td>\n",
       "      <td>0.532607</td>\n",
       "      <td>-0.325069</td>\n",
       "      <td>0.432295</td>\n",
       "      <td>-0.355913</td>\n",
       "      <td>1.000000</td>\n",
       "      <td>0.120854</td>\n",
       "    </tr>\n",
       "    <tr>\n",
       "      <th>AgeBldg</th>\n",
       "      <td>0.046381</td>\n",
       "      <td>-0.030903</td>\n",
       "      <td>0.076644</td>\n",
       "      <td>0.068703</td>\n",
       "      <td>-0.072419</td>\n",
       "      <td>0.101617</td>\n",
       "      <td>-0.005109</td>\n",
       "      <td>0.017383</td>\n",
       "      <td>0.070419</td>\n",
       "      <td>-0.100426</td>\n",
       "      <td>...</td>\n",
       "      <td>0.068711</td>\n",
       "      <td>0.098530</td>\n",
       "      <td>-0.146636</td>\n",
       "      <td>-0.009400</td>\n",
       "      <td>0.119961</td>\n",
       "      <td>-0.034505</td>\n",
       "      <td>0.203581</td>\n",
       "      <td>-0.020157</td>\n",
       "      <td>0.120854</td>\n",
       "      <td>1.000000</td>\n",
       "    </tr>\n",
       "  </tbody>\n",
       "</table>\n",
       "<p>25 rows × 25 columns</p>\n",
       "</div>"
      ],
      "text/plain": [
       "                   TARGET  TARGET_R  TARGET_F  _Tot_Complaints  BldgArea  \\\n",
       "TARGET           1.000000  0.066433  0.973417         0.830854  0.509707   \n",
       "TARGET_R         0.066433  1.000000  0.082848        -0.158149 -0.060822   \n",
       "TARGET_F         0.973417  0.082848  1.000000         0.806228  0.423138   \n",
       "_Tot_Complaints  0.830854 -0.158149  0.806228         1.000000  0.535606   \n",
       "BldgArea         0.509707 -0.060822  0.423138         0.535606  1.000000   \n",
       "BldgDepth        0.410576 -0.070225  0.362550         0.446114  0.662039   \n",
       "BuiltFAR         0.440713 -0.087021  0.367450         0.484966  0.720240   \n",
       "FacilFAR         0.138566 -0.017085  0.124528         0.161002  0.204793   \n",
       "NumBldgs        -0.084739  0.024089 -0.075450        -0.090619 -0.068755   \n",
       "NumFloors        0.460137 -0.075733  0.370446         0.497057  0.781310   \n",
       "Lot             -0.077703  0.034218 -0.077053        -0.082813 -0.076513   \n",
       "LotArea          0.420037 -0.038299  0.351931         0.431451  0.880181   \n",
       "LotDepth         0.142025 -0.008596  0.122607         0.134524  0.295082   \n",
       "ResArea          0.523693 -0.068424  0.437130         0.551468  0.976048   \n",
       "ResidFAR         0.177185 -0.025355  0.157049         0.203005  0.278141   \n",
       "R_BuiltFAR       0.265496 -0.069161  0.239107         0.301991  0.402799   \n",
       "R_FacilFAR      -0.317011  0.067817 -0.255036        -0.342997 -0.513653   \n",
       "R_Lot           -0.180531  0.050671 -0.157991        -0.196628 -0.257098   \n",
       "R_LotArea        0.257365 -0.005144  0.225548         0.258195  0.615353   \n",
       "R_LotDepth      -0.334527  0.063318 -0.271104        -0.371391 -0.508415   \n",
       "R_BldgArea       0.502380 -0.057195  0.428290         0.530678  0.976588   \n",
       "R_BldgDepth     -0.148149  0.032921 -0.096189        -0.161833 -0.233562   \n",
       "R_ResArea        0.532015 -0.073441  0.456127         0.564236  0.957452   \n",
       "R_ResidFAR      -0.227614  0.050418 -0.179767        -0.244134 -0.368855   \n",
       "AgeBldg          0.046381 -0.030903  0.076644         0.068703 -0.072419   \n",
       "\n",
       "                 BldgDepth  BuiltFAR  FacilFAR  NumBldgs  NumFloors  ...  \\\n",
       "TARGET            0.410576  0.440713  0.138566 -0.084739   0.460137  ...   \n",
       "TARGET_R         -0.070225 -0.087021 -0.017085  0.024089  -0.075733  ...   \n",
       "TARGET_F          0.362550  0.367450  0.124528 -0.075450   0.370446  ...   \n",
       "_Tot_Complaints   0.446114  0.484966  0.161002 -0.090619   0.497057  ...   \n",
       "BldgArea          0.662039  0.720240  0.204793 -0.068755   0.781310  ...   \n",
       "BldgDepth         1.000000  0.668869  0.202551 -0.122896   0.652025  ...   \n",
       "BuiltFAR          0.668869  1.000000  0.201053 -0.205619   0.897031  ...   \n",
       "FacilFAR          0.202551  0.201053  1.000000 -0.048586   0.212441  ...   \n",
       "NumBldgs         -0.122896 -0.205619 -0.048586  1.000000  -0.142038  ...   \n",
       "NumFloors         0.652025  0.897031  0.212441 -0.142038   1.000000  ...   \n",
       "Lot              -0.117020 -0.151211 -0.217084  0.007824  -0.142667  ...   \n",
       "LotArea           0.567823  0.457606  0.159852  0.051200   0.603049  ...   \n",
       "LotDepth          0.491325  0.013821  0.036076  0.071121   0.181743  ...   \n",
       "ResArea           0.642659  0.726668  0.205149 -0.085838   0.779220  ...   \n",
       "ResidFAR          0.232445  0.249331  0.824253 -0.056676   0.253073  ...   \n",
       "R_BuiltFAR        0.503232  0.798955  0.132925 -0.256377   0.491482  ...   \n",
       "R_FacilFAR       -0.451081 -0.670406  0.390475  0.096322  -0.749220  ...   \n",
       "R_Lot            -0.254638 -0.364919 -0.250645  0.048584  -0.384447  ...   \n",
       "R_LotArea         0.399225  0.133941  0.085559  0.155935   0.236267  ...   \n",
       "R_LotDepth       -0.353511 -0.792153 -0.173714  0.174569  -0.802827  ...   \n",
       "R_BldgArea        0.688758  0.687774  0.203886 -0.052349   0.711856  ...   \n",
       "R_BldgDepth       0.217696 -0.385884 -0.056108  0.039284  -0.525754  ...   \n",
       "R_ResArea         0.661237  0.715665  0.204071 -0.079962   0.738036  ...   \n",
       "R_ResidFAR       -0.331101 -0.513898  0.460549  0.062220  -0.587515  ...   \n",
       "AgeBldg           0.101617 -0.005109  0.017383  0.070419  -0.100426  ...   \n",
       "\n",
       "                 R_BuiltFAR  R_FacilFAR     R_Lot  R_LotArea  R_LotDepth  \\\n",
       "TARGET             0.265496   -0.317011 -0.180531   0.257365   -0.334527   \n",
       "TARGET_R          -0.069161    0.067817  0.050671  -0.005144    0.063318   \n",
       "TARGET_F           0.239107   -0.255036 -0.157991   0.225548   -0.271104   \n",
       "_Tot_Complaints    0.301991   -0.342997 -0.196628   0.258195   -0.371391   \n",
       "BldgArea           0.402799   -0.513653 -0.257098   0.615353   -0.508415   \n",
       "BldgDepth          0.503232   -0.451081 -0.254638   0.399225   -0.353511   \n",
       "BuiltFAR           0.798955   -0.670406 -0.364919   0.133941   -0.792153   \n",
       "FacilFAR           0.132925    0.390475 -0.250645   0.085559   -0.173714   \n",
       "NumBldgs          -0.256377    0.096322  0.048584   0.155935    0.174569   \n",
       "NumFloors          0.491482   -0.749220 -0.384447   0.236267   -0.802827   \n",
       "Lot               -0.127860   -0.008958  0.907605   0.011492    0.145018   \n",
       "LotArea            0.149413   -0.390604 -0.183699   0.873374   -0.304681   \n",
       "LotDepth          -0.214402   -0.113644 -0.026638   0.416700    0.339739   \n",
       "ResArea            0.407310   -0.514996 -0.254539   0.505907   -0.524795   \n",
       "ResidFAR           0.167538    0.252585 -0.228602   0.137185   -0.204824   \n",
       "R_BuiltFAR         1.000000   -0.359427 -0.242715  -0.039608   -0.563882   \n",
       "R_FacilFAR        -0.359427    1.000000  0.195053  -0.104617    0.681037   \n",
       "R_Lot             -0.242715    0.195053  1.000000  -0.031196    0.372905   \n",
       "R_LotArea         -0.039608   -0.104617 -0.031196   1.000000    0.056145   \n",
       "R_LotDepth        -0.563882    0.681037  0.372905   0.056145    1.000000   \n",
       "R_BldgArea         0.431571   -0.467245 -0.241131   0.710086   -0.449117   \n",
       "R_BldgDepth       -0.047582    0.505347  0.245673   0.187250    0.683679   \n",
       "R_ResArea          0.433628   -0.496840 -0.245851   0.520798   -0.502013   \n",
       "R_ResidFAR        -0.257512    0.890838  0.121310  -0.044460    0.532607   \n",
       "AgeBldg            0.068711    0.098530 -0.146636  -0.009400    0.119961   \n",
       "\n",
       "                 R_BldgArea  R_BldgDepth  R_ResArea  R_ResidFAR   AgeBldg  \n",
       "TARGET             0.502380    -0.148149   0.532015   -0.227614  0.046381  \n",
       "TARGET_R          -0.057195     0.032921  -0.073441    0.050418 -0.030903  \n",
       "TARGET_F           0.428290    -0.096189   0.456127   -0.179767  0.076644  \n",
       "_Tot_Complaints    0.530678    -0.161833   0.564236   -0.244134  0.068703  \n",
       "BldgArea           0.976588    -0.233562   0.957452   -0.368855 -0.072419  \n",
       "BldgDepth          0.688758     0.217696   0.661237   -0.331101  0.101617  \n",
       "BuiltFAR           0.687774    -0.385884   0.715665   -0.513898 -0.005109  \n",
       "FacilFAR           0.203886    -0.056108   0.204071    0.460549  0.017383  \n",
       "NumBldgs          -0.052349     0.039284  -0.079962    0.062220  0.070419  \n",
       "NumFloors          0.711856    -0.525754   0.738036   -0.587515 -0.100426  \n",
       "Lot               -0.074772     0.069568  -0.072912   -0.047933 -0.195532  \n",
       "LotArea            0.900708    -0.112845   0.791707   -0.276596 -0.073387  \n",
       "LotDepth           0.310518     0.253546   0.257235   -0.108673  0.017544  \n",
       "ResArea            0.935066    -0.260473   0.986182   -0.372640 -0.058567  \n",
       "ResidFAR           0.278940    -0.060274   0.276139    0.546962  0.047299  \n",
       "R_BuiltFAR         0.431571    -0.047582   0.433628   -0.257512  0.068711  \n",
       "R_FacilFAR        -0.467245     0.505347  -0.496840    0.890838  0.098530  \n",
       "R_Lot             -0.241131     0.245673  -0.245851    0.121310 -0.146636  \n",
       "R_LotArea          0.710086     0.187250   0.520798   -0.044460 -0.009400  \n",
       "R_LotDepth        -0.449117     0.683679  -0.502013    0.532607  0.119961  \n",
       "R_BldgArea         1.000000    -0.129515   0.941366   -0.325069 -0.034505  \n",
       "R_BldgDepth       -0.129515     1.000000  -0.211001    0.432295  0.203581  \n",
       "R_ResArea          0.941366    -0.211001   1.000000   -0.355913 -0.020157  \n",
       "R_ResidFAR        -0.325069     0.432295  -0.355913    1.000000  0.120854  \n",
       "AgeBldg           -0.034505     0.203581  -0.020157    0.120854  1.000000  \n",
       "\n",
       "[25 rows x 25 columns]"
      ]
     },
     "execution_count": 21,
     "metadata": {},
     "output_type": "execute_result"
    }
   ],
   "source": [
    "# Remove OUTLIERS (using z-score)\n",
    "df_zscore_out = df_zscore[(z<3).all(axis=1)] \n",
    "\n",
    "#df_zscore_out.info()\n",
    "df_zscore_out.corr()\n",
    "#df_zscore_out.describe()"
   ]
  },
  {
   "cell_type": "markdown",
   "metadata": {},
   "source": [
    "Analysis of Initial Correlation Results:\n",
    "- The following features are moderately correlated to the 'TARGET' variable. \n",
    "    - NumFloors (.46)\n",
    "    - BldgArea (.51)\n",
    "    - BldDepth (.41)\n",
    "    - BuiltFAR (.44)\n",
    "    - LotArea (.42)\n",
    "    - ResArea (.52)\n",
    "- Interesting that the other potential target variables (i.e., TARGET_R, TARGET_F) did not correlate with much.\n",
    "- It is also surprising that the initial correlation of BldgAge was not strong.\n",
    "- Investigation of the PLUTO data dictionary show that 'BuiltFAR' is calculated from 'LotArea' and 'BldgArea'.\n",
    "- These initial correlations are a little underwhelming. We will now explore these relationships more."
   ]
  },
  {
   "cell_type": "markdown",
   "metadata": {},
   "source": [
    "#### 6c. Reduce df to just the significant features for further analysis. View DESCRIPTIVES."
   ]
  },
  {
   "cell_type": "code",
   "execution_count": 22,
   "metadata": {},
   "outputs": [
    {
     "data": {
      "text/html": [
       "<div>\n",
       "<style scoped>\n",
       "    .dataframe tbody tr th:only-of-type {\n",
       "        vertical-align: middle;\n",
       "    }\n",
       "\n",
       "    .dataframe tbody tr th {\n",
       "        vertical-align: top;\n",
       "    }\n",
       "\n",
       "    .dataframe thead th {\n",
       "        text-align: right;\n",
       "    }\n",
       "</style>\n",
       "<table border=\"1\" class=\"dataframe\">\n",
       "  <thead>\n",
       "    <tr style=\"text-align: right;\">\n",
       "      <th></th>\n",
       "      <th>TARGET</th>\n",
       "      <th>TARGET_R</th>\n",
       "      <th>TARGET_F</th>\n",
       "      <th>_Tot_Complaints</th>\n",
       "      <th>BldgArea</th>\n",
       "      <th>BldgDepth</th>\n",
       "      <th>BuiltFAR</th>\n",
       "      <th>NumFloors</th>\n",
       "      <th>LotArea</th>\n",
       "      <th>ResArea</th>\n",
       "      <th>AgeBldg</th>\n",
       "    </tr>\n",
       "  </thead>\n",
       "  <tbody>\n",
       "    <tr>\n",
       "      <th>count</th>\n",
       "      <td>5423.000000</td>\n",
       "      <td>5423.000000</td>\n",
       "      <td>5423.000000</td>\n",
       "      <td>5423.000000</td>\n",
       "      <td>5423.000000</td>\n",
       "      <td>5423.000000</td>\n",
       "      <td>5423.000000</td>\n",
       "      <td>5423.000000</td>\n",
       "      <td>5423.000000</td>\n",
       "      <td>5423.000000</td>\n",
       "      <td>5423.000000</td>\n",
       "    </tr>\n",
       "    <tr>\n",
       "      <th>mean</th>\n",
       "      <td>25.079476</td>\n",
       "      <td>0.399263</td>\n",
       "      <td>5.142562</td>\n",
       "      <td>78.480730</td>\n",
       "      <td>19151.782039</td>\n",
       "      <td>69.902467</td>\n",
       "      <td>2.719578</td>\n",
       "      <td>3.985495</td>\n",
       "      <td>5684.670846</td>\n",
       "      <td>18169.507468</td>\n",
       "      <td>88.489581</td>\n",
       "    </tr>\n",
       "    <tr>\n",
       "      <th>std</th>\n",
       "      <td>43.786467</td>\n",
       "      <td>0.325190</td>\n",
       "      <td>8.248889</td>\n",
       "      <td>121.646948</td>\n",
       "      <td>22187.336767</td>\n",
       "      <td>23.583962</td>\n",
       "      <td>1.477003</td>\n",
       "      <td>1.500332</td>\n",
       "      <td>5463.911360</td>\n",
       "      <td>21821.621368</td>\n",
       "      <td>30.196538</td>\n",
       "    </tr>\n",
       "    <tr>\n",
       "      <th>min</th>\n",
       "      <td>0.000000</td>\n",
       "      <td>0.000000</td>\n",
       "      <td>0.000000</td>\n",
       "      <td>1.000000</td>\n",
       "      <td>660.000000</td>\n",
       "      <td>9.830000</td>\n",
       "      <td>0.130000</td>\n",
       "      <td>1.000000</td>\n",
       "      <td>695.000000</td>\n",
       "      <td>0.000000</td>\n",
       "      <td>1.000000</td>\n",
       "    </tr>\n",
       "    <tr>\n",
       "      <th>25%</th>\n",
       "      <td>1.000000</td>\n",
       "      <td>0.142857</td>\n",
       "      <td>0.500000</td>\n",
       "      <td>5.000000</td>\n",
       "      <td>3042.500000</td>\n",
       "      <td>52.000000</td>\n",
       "      <td>1.330000</td>\n",
       "      <td>3.000000</td>\n",
       "      <td>2304.500000</td>\n",
       "      <td>2688.000000</td>\n",
       "      <td>87.000000</td>\n",
       "    </tr>\n",
       "    <tr>\n",
       "      <th>50%</th>\n",
       "      <td>7.000000</td>\n",
       "      <td>0.320000</td>\n",
       "      <td>1.800000</td>\n",
       "      <td>23.000000</td>\n",
       "      <td>8800.000000</td>\n",
       "      <td>68.000000</td>\n",
       "      <td>2.640000</td>\n",
       "      <td>4.000000</td>\n",
       "      <td>3553.000000</td>\n",
       "      <td>7420.000000</td>\n",
       "      <td>95.000000</td>\n",
       "    </tr>\n",
       "    <tr>\n",
       "      <th>75%</th>\n",
       "      <td>29.000000</td>\n",
       "      <td>0.600000</td>\n",
       "      <td>6.071429</td>\n",
       "      <td>100.000000</td>\n",
       "      <td>28865.500000</td>\n",
       "      <td>88.000000</td>\n",
       "      <td>4.070000</td>\n",
       "      <td>5.000000</td>\n",
       "      <td>7500.000000</td>\n",
       "      <td>27200.000000</td>\n",
       "      <td>108.000000</td>\n",
       "    </tr>\n",
       "    <tr>\n",
       "      <th>max</th>\n",
       "      <td>341.000000</td>\n",
       "      <td>1.000000</td>\n",
       "      <td>58.400000</td>\n",
       "      <td>725.000000</td>\n",
       "      <td>129555.000000</td>\n",
       "      <td>162.000000</td>\n",
       "      <td>7.420000</td>\n",
       "      <td>9.000000</td>\n",
       "      <td>85700.000000</td>\n",
       "      <td>126284.000000</td>\n",
       "      <td>127.000000</td>\n",
       "    </tr>\n",
       "  </tbody>\n",
       "</table>\n",
       "</div>"
      ],
      "text/plain": [
       "            TARGET     TARGET_R     TARGET_F  _Tot_Complaints       BldgArea  \\\n",
       "count  5423.000000  5423.000000  5423.000000      5423.000000    5423.000000   \n",
       "mean     25.079476     0.399263     5.142562        78.480730   19151.782039   \n",
       "std      43.786467     0.325190     8.248889       121.646948   22187.336767   \n",
       "min       0.000000     0.000000     0.000000         1.000000     660.000000   \n",
       "25%       1.000000     0.142857     0.500000         5.000000    3042.500000   \n",
       "50%       7.000000     0.320000     1.800000        23.000000    8800.000000   \n",
       "75%      29.000000     0.600000     6.071429       100.000000   28865.500000   \n",
       "max     341.000000     1.000000    58.400000       725.000000  129555.000000   \n",
       "\n",
       "         BldgDepth     BuiltFAR    NumFloors       LotArea        ResArea  \\\n",
       "count  5423.000000  5423.000000  5423.000000   5423.000000    5423.000000   \n",
       "mean     69.902467     2.719578     3.985495   5684.670846   18169.507468   \n",
       "std      23.583962     1.477003     1.500332   5463.911360   21821.621368   \n",
       "min       9.830000     0.130000     1.000000    695.000000       0.000000   \n",
       "25%      52.000000     1.330000     3.000000   2304.500000    2688.000000   \n",
       "50%      68.000000     2.640000     4.000000   3553.000000    7420.000000   \n",
       "75%      88.000000     4.070000     5.000000   7500.000000   27200.000000   \n",
       "max     162.000000     7.420000     9.000000  85700.000000  126284.000000   \n",
       "\n",
       "           AgeBldg  \n",
       "count  5423.000000  \n",
       "mean     88.489581  \n",
       "std      30.196538  \n",
       "min       1.000000  \n",
       "25%      87.000000  \n",
       "50%      95.000000  \n",
       "75%     108.000000  \n",
       "max     127.000000  "
      ]
     },
     "execution_count": 22,
     "metadata": {},
     "output_type": "execute_result"
    }
   ],
   "source": [
    "df_zscore_top = df_zscore_out[['TARGET','TARGET_R','TARGET_F','_Tot_Complaints','BldgArea','BldgDepth','BuiltFAR','NumFloors','LotArea',\n",
    "                            'ResArea','AgeBldg']]\n",
    "\n",
    "df_zscore_top.describe()"
   ]
  },
  {
   "cell_type": "markdown",
   "metadata": {},
   "source": [
    "#### 6d. Run BOXPLOT of TARGET variable by 'YearAlter_Cat' feature."
   ]
  },
  {
   "cell_type": "code",
   "execution_count": 23,
   "metadata": {},
   "outputs": [
    {
     "data": {
      "text/plain": [
       "<matplotlib.axes._subplots.AxesSubplot at 0x7fd3dfe02588>"
      ]
     },
     "execution_count": 23,
     "metadata": {},
     "output_type": "execute_result"
    },
    {
     "data": {
      "image/png": "[encoded data removed]",
      "text/plain": [
       "<Figure size 432x288 with 1 Axes>"
      ]
     },
     "metadata": {
      "needs_background": "light"
     },
     "output_type": "display_data"
    }
   ],
   "source": [
    "sns.boxplot(x = df_train_FINAL['YearAlter_Cat'], y = df_zscore_top['TARGET'])"
   ]
  },
  {
   "cell_type": "markdown",
   "metadata": {},
   "source": [
    "There does not seem to be any significant pattern between TARGET and and whether a building has been altered."
   ]
  },
  {
   "cell_type": "markdown",
   "metadata": {},
   "source": [
    "#### 6d. Run HISTOGRAMS of TARGET variables and feature variables."
   ]
  },
  {
   "cell_type": "code",
   "execution_count": 24,
   "metadata": {},
   "outputs": [
    {
     "data": {
      "image/png": "[encoded data removed]",
      "text/plain": [
       "<Figure size 360x288 with 1 Axes>"
      ]
     },
     "metadata": {
      "needs_background": "light"
     },
     "output_type": "display_data"
    }
   ],
   "source": [
    "#%matplotlib inline\n",
    "#import matplotlib as mpl\n",
    "#import matplotlib.pyplot as plt\n",
    "\n",
    "df_TARGET = df_zscore_top['TARGET']\n",
    "df_TARGET.plot(kind='hist', figsize=(5, 4))\n",
    "plt.show()"
   ]
  },
  {
   "cell_type": "code",
   "execution_count": 25,
   "metadata": {},
   "outputs": [
    {
     "data": {
      "image/png": "[encoded data removed]",
      "text/plain": [
       "<Figure size 360x288 with 1 Axes>"
      ]
     },
     "metadata": {
      "needs_background": "light"
     },
     "output_type": "display_data"
    }
   ],
   "source": [
    "df_TARGET = df_zscore_top['TARGET_R']\n",
    "df_TARGET.plot(kind='hist', figsize=(5, 4))\n",
    "plt.show()"
   ]
  },
  {
   "cell_type": "code",
   "execution_count": 26,
   "metadata": {},
   "outputs": [
    {
     "data": {
      "image/png": "[encoded data removed]",
      "text/plain": [
       "<Figure size 360x288 with 1 Axes>"
      ]
     },
     "metadata": {
      "needs_background": "light"
     },
     "output_type": "display_data"
    }
   ],
   "source": [
    "df_TARGET = df_zscore_top['TARGET_F']\n",
    "df_TARGET.plot(kind='hist', figsize=(5, 4))\n",
    "plt.show()"
   ]
  },
  {
   "cell_type": "code",
   "execution_count": 27,
   "metadata": {},
   "outputs": [
    {
     "data": {
      "image/png": "[encoded data removed]",
      "text/plain": [
       "<Figure size 360x288 with 1 Axes>"
      ]
     },
     "metadata": {
      "needs_background": "light"
     },
     "output_type": "display_data"
    }
   ],
   "source": [
    "df_TARGET = df_zscore_top['_Tot_Complaints']\n",
    "df_TARGET.plot(kind='hist', figsize=(5, 4))\n",
    "plt.show()"
   ]
  },
  {
   "cell_type": "code",
   "execution_count": 28,
   "metadata": {},
   "outputs": [
    {
     "data": {
      "image/png": "[encoded data removed]",
      "text/plain": [
       "<Figure size 360x288 with 1 Axes>"
      ]
     },
     "metadata": {
      "needs_background": "light"
     },
     "output_type": "display_data"
    }
   ],
   "source": [
    "df_TARGET = df_zscore_top['NumFloors']\n",
    "df_TARGET.plot(kind='hist', figsize=(5, 4))\n",
    "plt.show()"
   ]
  },
  {
   "cell_type": "code",
   "execution_count": 29,
   "metadata": {},
   "outputs": [
    {
     "data": {
      "image/png": "[encoded data removed]",
      "text/plain": [
       "<Figure size 360x288 with 1 Axes>"
      ]
     },
     "metadata": {
      "needs_background": "light"
     },
     "output_type": "display_data"
    }
   ],
   "source": [
    "df_TARGET = df_zscore_top['AgeBldg']\n",
    "df_TARGET.plot(kind='hist', figsize=(5, 4))\n",
    "plt.show()"
   ]
  },
  {
   "cell_type": "code",
   "execution_count": 30,
   "metadata": {},
   "outputs": [
    {
     "data": {
      "image/png": "[encoded data removed]",
      "text/plain": [
       "<Figure size 360x288 with 1 Axes>"
      ]
     },
     "metadata": {
      "needs_background": "light"
     },
     "output_type": "display_data"
    }
   ],
   "source": [
    "df_TARGET = df_zscore_top['BldgArea']\n",
    "df_TARGET.plot(kind='hist', figsize=(5, 4))\n",
    "plt.show()"
   ]
  },
  {
   "cell_type": "code",
   "execution_count": 31,
   "metadata": {},
   "outputs": [
    {
     "data": {
      "image/png": "[encoded data removed]",
      "text/plain": [
       "<Figure size 360x288 with 1 Axes>"
      ]
     },
     "metadata": {
      "needs_background": "light"
     },
     "output_type": "display_data"
    }
   ],
   "source": [
    "df_TARGET = df_zscore_top['BldgDepth']\n",
    "df_TARGET.plot(kind='hist', figsize=(5, 4))\n",
    "plt.show()"
   ]
  },
  {
   "cell_type": "code",
   "execution_count": 32,
   "metadata": {},
   "outputs": [
    {
     "data": {
      "image/png": "[encoded data removed]",
      "text/plain": [
       "<Figure size 360x288 with 1 Axes>"
      ]
     },
     "metadata": {
      "needs_background": "light"
     },
     "output_type": "display_data"
    }
   ],
   "source": [
    "df_TARGET = df_zscore_top['BuiltFAR']\n",
    "df_TARGET.plot(kind='hist', figsize=(5, 4))\n",
    "plt.show()"
   ]
  },
  {
   "cell_type": "code",
   "execution_count": 33,
   "metadata": {},
   "outputs": [
    {
     "data": {
      "image/png": "[encoded data removed]",
      "text/plain": [
       "<Figure size 360x288 with 1 Axes>"
      ]
     },
     "metadata": {
      "needs_background": "light"
     },
     "output_type": "display_data"
    }
   ],
   "source": [
    "df_TARGET = df_zscore_top['ResArea']\n",
    "df_TARGET.plot(kind='hist', figsize=(5, 4))\n",
    "plt.show()"
   ]
  },
  {
   "cell_type": "code",
   "execution_count": 34,
   "metadata": {},
   "outputs": [
    {
     "data": {
      "image/png": "[encoded data removed]",
      "text/plain": [
       "<Figure size 360x288 with 1 Axes>"
      ]
     },
     "metadata": {
      "needs_background": "light"
     },
     "output_type": "display_data"
    }
   ],
   "source": [
    "df_TARGET = df_zscore_top['LotArea']\n",
    "df_TARGET.plot(kind='hist', figsize=(5, 4))\n",
    "plt.show()"
   ]
  },
  {
   "cell_type": "markdown",
   "metadata": {},
   "source": [
    "#### 6e. Run SCATTER PLOTS of TARGET variables and feature variables."
   ]
  },
  {
   "cell_type": "code",
   "execution_count": 35,
   "metadata": {},
   "outputs": [
    {
     "data": {
      "text/plain": [
       "(0, 358.0918683310273)"
      ]
     },
     "execution_count": 35,
     "metadata": {},
     "output_type": "execute_result"
    },
    {
     "data": {
      "image/png": "[encoded data removed]",
      "text/plain": [
       "<Figure size 432x288 with 1 Axes>"
      ]
     },
     "metadata": {
      "needs_background": "light"
     },
     "output_type": "display_data"
    }
   ],
   "source": [
    "# Scatter Plot of 'TARGET' and 'AgeBldg'\n",
    "sns.regplot(x='AgeBldg', y='TARGET', data=df_zscore_top)\n",
    "plt.ylim(0,)"
   ]
  },
  {
   "cell_type": "markdown",
   "metadata": {},
   "source": [
    "This plot reveals that there is indeed a relationship between BldgAge and the TARGET. Binning the feature will improve things."
   ]
  },
  {
   "cell_type": "code",
   "execution_count": 36,
   "metadata": {},
   "outputs": [
    {
     "data": {
      "text/plain": [
       "(0, 358.1578626320969)"
      ]
     },
     "execution_count": 36,
     "metadata": {},
     "output_type": "execute_result"
    },
    {
     "data": {
      "image/png": "[encoded data removed]",
      "text/plain": [
       "<Figure size 432x288 with 1 Axes>"
      ]
     },
     "metadata": {
      "needs_background": "light"
     },
     "output_type": "display_data"
    }
   ],
   "source": [
    "# Scatter Plot of 'TARGET' and 'BldgArea'\n",
    "sns.regplot(x='BldgArea', y='TARGET', data=df_zscore_top)\n",
    "plt.ylim(0,)"
   ]
  },
  {
   "cell_type": "markdown",
   "metadata": {},
   "source": [
    "This plot reveals that there may be an important relationship between BldgArea and the TARGET. Binning the feature may improve things."
   ]
  },
  {
   "cell_type": "code",
   "execution_count": 37,
   "metadata": {},
   "outputs": [
    {
     "data": {
      "text/plain": [
       "(0, 358.19003836160624)"
      ]
     },
     "execution_count": 37,
     "metadata": {},
     "output_type": "execute_result"
    },
    {
     "data": {
      "image/png": "[encoded data removed]",
      "text/plain": [
       "<Figure size 432x288 with 1 Axes>"
      ]
     },
     "metadata": {
      "needs_background": "light"
     },
     "output_type": "display_data"
    }
   ],
   "source": [
    "# Scatter Plot of 'TARGET' and 'ResArea'\n",
    "sns.regplot(x='ResArea', y='TARGET', data=df_zscore_top)\n",
    "plt.ylim(0,)"
   ]
  },
  {
   "cell_type": "markdown",
   "metadata": {},
   "source": [
    "This plot reveals that there may be an important relationship between ResArea and the TARGET. Binning the feature may improve things."
   ]
  },
  {
   "cell_type": "code",
   "execution_count": 38,
   "metadata": {},
   "outputs": [
    {
     "data": {
      "text/plain": [
       "(0, 359.2141982544673)"
      ]
     },
     "execution_count": 38,
     "metadata": {},
     "output_type": "execute_result"
    },
    {
     "data": {
      "image/png": "[encoded data removed]",
      "text/plain": [
       "<Figure size 432x288 with 1 Axes>"
      ]
     },
     "metadata": {
      "needs_background": "light"
     },
     "output_type": "display_data"
    }
   ],
   "source": [
    "# Scatter Plot of 'TARGET' and 'NumFloors'\n",
    "sns.regplot(x='NumFloors', y='TARGET', data=df_zscore_top)\n",
    "plt.ylim(0,)"
   ]
  },
  {
   "cell_type": "markdown",
   "metadata": {},
   "source": [
    "This plot reveals that there is likely an important relationship between NumFloors and the TARGET. Binning the feature will improve things."
   ]
  },
  {
   "cell_type": "code",
   "execution_count": 39,
   "metadata": {},
   "outputs": [
    {
     "data": {
      "text/plain": [
       "(0, 358.8486514311389)"
      ]
     },
     "execution_count": 39,
     "metadata": {},
     "output_type": "execute_result"
    },
    {
     "data": {
      "image/png": "[encoded data removed]",
      "text/plain": [
       "<Figure size 432x288 with 1 Axes>"
      ]
     },
     "metadata": {
      "needs_background": "light"
     },
     "output_type": "display_data"
    }
   ],
   "source": [
    "# Scatter Plot of 'TARGET' and 'BuiltFAR'\n",
    "sns.regplot(x='BuiltFAR', y='TARGET', data=df_zscore_top)\n",
    "plt.ylim(0,)"
   ]
  },
  {
   "cell_type": "markdown",
   "metadata": {},
   "source": [
    "This plot reveals that there is likely an important relationship between BuiltFAR and the TARGET. Binning the feature will improve things."
   ]
  },
  {
   "cell_type": "code",
   "execution_count": 40,
   "metadata": {},
   "outputs": [
    {
     "data": {
      "text/plain": [
       "(0, 359.57697651937417)"
      ]
     },
     "execution_count": 40,
     "metadata": {},
     "output_type": "execute_result"
    },
    {
     "data": {
      "image/png": "[encoded data removed]",
      "text/plain": [
       "<Figure size 432x288 with 1 Axes>"
      ]
     },
     "metadata": {
      "needs_background": "light"
     },
     "output_type": "display_data"
    }
   ],
   "source": [
    "# Scatter Plot of 'TARGET' and 'BldgDepth'\n",
    "sns.regplot(x='BldgDepth', y='TARGET', data=df_zscore_top)\n",
    "plt.ylim(0,)"
   ]
  },
  {
   "cell_type": "markdown",
   "metadata": {},
   "source": [
    "This plot reveals that there may be an important relationship between BldgDepth and the TARGET. Binning the feature will improve things."
   ]
  },
  {
   "cell_type": "code",
   "execution_count": 41,
   "metadata": {},
   "outputs": [
    {
     "data": {
      "text/plain": [
       "(0, 371.3260913620511)"
      ]
     },
     "execution_count": 41,
     "metadata": {},
     "output_type": "execute_result"
    },
    {
     "data": {
      "image/png": "[encoded data removed]",
      "text/plain": [
       "<Figure size 432x288 with 1 Axes>"
      ]
     },
     "metadata": {
      "needs_background": "light"
     },
     "output_type": "display_data"
    }
   ],
   "source": [
    "# Scatter Plot of 'TARGET' and 'LotArea'\n",
    "sns.regplot(x='LotArea', y='TARGET', data=df_zscore_top)\n",
    "plt.ylim(0,)"
   ]
  },
  {
   "cell_type": "markdown",
   "metadata": {},
   "source": [
    "Outliers are an issue. This plot reveals that there may be an important relationship between LotArea and the TARGET. Binning the feature may improve things."
   ]
  },
  {
   "cell_type": "markdown",
   "metadata": {},
   "source": [
    "#### 6f. BIN 'AgeBldg', 'ResArea', 'NumFloors', 'BuiltFAR'"
   ]
  },
  {
   "cell_type": "code",
   "execution_count": 42,
   "metadata": {},
   "outputs": [
    {
     "name": "stderr",
     "output_type": "stream",
     "text": [
      "/opt/conda/envs/Python36/lib/python3.6/site-packages/ipykernel/__main__.py:8: SettingWithCopyWarning: \n",
      "A value is trying to be set on a copy of a slice from a DataFrame.\n",
      "Try using .loc[row_indexer,col_indexer] = value instead\n",
      "\n",
      "See the caveats in the documentation: http://pandas.pydata.org/pandas-docs/stable/indexing.html#indexing-view-versus-copy\n",
      "/opt/conda/envs/Python36/lib/python3.6/site-packages/ipykernel/__main__.py:13: SettingWithCopyWarning: \n",
      "A value is trying to be set on a copy of a slice from a DataFrame.\n",
      "Try using .loc[row_indexer,col_indexer] = value instead\n",
      "\n",
      "See the caveats in the documentation: http://pandas.pydata.org/pandas-docs/stable/indexing.html#indexing-view-versus-copy\n",
      "/opt/conda/envs/Python36/lib/python3.6/site-packages/ipykernel/__main__.py:18: SettingWithCopyWarning: \n",
      "A value is trying to be set on a copy of a slice from a DataFrame.\n",
      "Try using .loc[row_indexer,col_indexer] = value instead\n",
      "\n",
      "See the caveats in the documentation: http://pandas.pydata.org/pandas-docs/stable/indexing.html#indexing-view-versus-copy\n",
      "/opt/conda/envs/Python36/lib/python3.6/site-packages/ipykernel/__main__.py:23: SettingWithCopyWarning: \n",
      "A value is trying to be set on a copy of a slice from a DataFrame.\n",
      "Try using .loc[row_indexer,col_indexer] = value instead\n",
      "\n",
      "See the caveats in the documentation: http://pandas.pydata.org/pandas-docs/stable/indexing.html#indexing-view-versus-copy\n"
     ]
    }
   ],
   "source": [
    "#%matplotlib inline\n",
    "#import matplotlib as plt\n",
    "#from matplotlib import pyplot\n",
    "\n",
    "bin_labels_A4 = ['1-Low', '2-Med', '3-High']\n",
    "df_zscore_top['AgeBldg_Bin3'] = pd.qcut(df_zscore_top['AgeBldg'],\n",
    "                              q=[0, .33, .67, 1],\n",
    "                              labels=bin_labels_A4)\n",
    "\n",
    "bin_labels_B4 = ['1-Low', '2-Med', '3-High']\n",
    "df_zscore_top['ResArea_Bin3'] = pd.qcut(df_zscore_top['ResArea'],\n",
    "                              q=[0, .33, .67, 1],\n",
    "                              labels=bin_labels_B4)\n",
    "\n",
    "bin_labels_C4 = ['1-Low', '2-Med', '3-High']\n",
    "df_zscore_top['NumFloors_Bin3'] = pd.qcut(df_zscore_top['NumFloors'],\n",
    "                              q=[0, .33, .67, 1],\n",
    "                              labels=bin_labels_C4)\n",
    "\n",
    "bin_labels_D4 = ['1-Low', '2-Med', '3-High']\n",
    "df_zscore_top['BuiltFAR_Bin3'] = pd.qcut(df_zscore_top['BuiltFAR'],\n",
    "                              q=[0, .33, .67, 1],\n",
    "                              labels=bin_labels_D4)\n",
    "\n",
    "#df_zscore_top.head(20)\n",
    "#df_zscore_top.info()"
   ]
  },
  {
   "cell_type": "markdown",
   "metadata": {},
   "source": [
    "#### 6g. CROSSTAB BINNED Features by TARGET."
   ]
  },
  {
   "cell_type": "code",
   "execution_count": 43,
   "metadata": {},
   "outputs": [
    {
     "data": {
      "text/html": [
       "<div>\n",
       "<style scoped>\n",
       "    .dataframe tbody tr th:only-of-type {\n",
       "        vertical-align: middle;\n",
       "    }\n",
       "\n",
       "    .dataframe tbody tr th {\n",
       "        vertical-align: top;\n",
       "    }\n",
       "\n",
       "    .dataframe thead th {\n",
       "        text-align: right;\n",
       "    }\n",
       "</style>\n",
       "<table border=\"1\" class=\"dataframe\">\n",
       "  <thead>\n",
       "    <tr style=\"text-align: right;\">\n",
       "      <th></th>\n",
       "      <th>AgeBldg_Bin3</th>\n",
       "      <th>TARGET</th>\n",
       "    </tr>\n",
       "  </thead>\n",
       "  <tbody>\n",
       "    <tr>\n",
       "      <th>0</th>\n",
       "      <td>1-Low</td>\n",
       "      <td>24.341834</td>\n",
       "    </tr>\n",
       "    <tr>\n",
       "      <th>1</th>\n",
       "      <td>2-Med</td>\n",
       "      <td>37.180077</td>\n",
       "    </tr>\n",
       "    <tr>\n",
       "      <th>2</th>\n",
       "      <td>3-High</td>\n",
       "      <td>13.243582</td>\n",
       "    </tr>\n",
       "  </tbody>\n",
       "</table>\n",
       "</div>"
      ],
      "text/plain": [
       "  AgeBldg_Bin3     TARGET\n",
       "0        1-Low  24.341834\n",
       "1        2-Med  37.180077\n",
       "2       3-High  13.243582"
      ]
     },
     "execution_count": 43,
     "metadata": {},
     "output_type": "execute_result"
    }
   ],
   "source": [
    "# CROSSTAB 'AgeBldg_Bin3' by TARGET\n",
    "df_zscore_top_xtab1 = df_zscore_top[['AgeBldg_Bin3', 'TARGET']]\n",
    "df_zscore_top_xtab1_out = df_zscore_top_xtab1.groupby(['AgeBldg_Bin3'], as_index=False).mean()\n",
    "df_zscore_top_xtab1_out"
   ]
  },
  {
   "cell_type": "markdown",
   "metadata": {},
   "source": [
    "Looking at the 'AgeBldg_Bin3' bin by the TARGET shows a clear relationship."
   ]
  },
  {
   "cell_type": "code",
   "execution_count": 44,
   "metadata": {},
   "outputs": [
    {
     "data": {
      "text/html": [
       "<div>\n",
       "<style scoped>\n",
       "    .dataframe tbody tr th:only-of-type {\n",
       "        vertical-align: middle;\n",
       "    }\n",
       "\n",
       "    .dataframe tbody tr th {\n",
       "        vertical-align: top;\n",
       "    }\n",
       "\n",
       "    .dataframe thead th {\n",
       "        text-align: right;\n",
       "    }\n",
       "</style>\n",
       "<table border=\"1\" class=\"dataframe\">\n",
       "  <thead>\n",
       "    <tr style=\"text-align: right;\">\n",
       "      <th></th>\n",
       "      <th>ResArea_Bin3</th>\n",
       "      <th>TARGET</th>\n",
       "    </tr>\n",
       "  </thead>\n",
       "  <tbody>\n",
       "    <tr>\n",
       "      <th>0</th>\n",
       "      <td>1-Low</td>\n",
       "      <td>4.195422</td>\n",
       "    </tr>\n",
       "    <tr>\n",
       "      <th>1</th>\n",
       "      <td>2-Med</td>\n",
       "      <td>16.298160</td>\n",
       "    </tr>\n",
       "    <tr>\n",
       "      <th>2</th>\n",
       "      <td>3-High</td>\n",
       "      <td>55.141816</td>\n",
       "    </tr>\n",
       "  </tbody>\n",
       "</table>\n",
       "</div>"
      ],
      "text/plain": [
       "  ResArea_Bin3     TARGET\n",
       "0        1-Low   4.195422\n",
       "1        2-Med  16.298160\n",
       "2       3-High  55.141816"
      ]
     },
     "execution_count": 44,
     "metadata": {},
     "output_type": "execute_result"
    }
   ],
   "source": [
    "# CROSSTAB 'ResArea_Bin3' by TARGET\n",
    "df_zscore_top_xtab2 = df_zscore_top[['ResArea_Bin3', 'TARGET']]\n",
    "df_zscore_top_xtab2_out = df_zscore_top_xtab2.groupby(['ResArea_Bin3'], as_index=False).mean()\n",
    "df_zscore_top_xtab2_out"
   ]
  },
  {
   "cell_type": "markdown",
   "metadata": {},
   "source": [
    "Looking at the 'ResArea_Bin3' bin by the TARGET also shows a clear relationship."
   ]
  },
  {
   "cell_type": "code",
   "execution_count": 45,
   "metadata": {},
   "outputs": [
    {
     "data": {
      "text/html": [
       "<div>\n",
       "<style scoped>\n",
       "    .dataframe tbody tr th:only-of-type {\n",
       "        vertical-align: middle;\n",
       "    }\n",
       "\n",
       "    .dataframe tbody tr th {\n",
       "        vertical-align: top;\n",
       "    }\n",
       "\n",
       "    .dataframe thead th {\n",
       "        text-align: right;\n",
       "    }\n",
       "</style>\n",
       "<table border=\"1\" class=\"dataframe\">\n",
       "  <thead>\n",
       "    <tr style=\"text-align: right;\">\n",
       "      <th></th>\n",
       "      <th>NumFloors_Bin3</th>\n",
       "      <th>TARGET</th>\n",
       "    </tr>\n",
       "  </thead>\n",
       "  <tbody>\n",
       "    <tr>\n",
       "      <th>0</th>\n",
       "      <td>1-Low</td>\n",
       "      <td>4.583930</td>\n",
       "    </tr>\n",
       "    <tr>\n",
       "      <th>1</th>\n",
       "      <td>2-Med</td>\n",
       "      <td>35.528021</td>\n",
       "    </tr>\n",
       "    <tr>\n",
       "      <th>2</th>\n",
       "      <td>3-High</td>\n",
       "      <td>57.448133</td>\n",
       "    </tr>\n",
       "  </tbody>\n",
       "</table>\n",
       "</div>"
      ],
      "text/plain": [
       "  NumFloors_Bin3     TARGET\n",
       "0          1-Low   4.583930\n",
       "1          2-Med  35.528021\n",
       "2         3-High  57.448133"
      ]
     },
     "execution_count": 45,
     "metadata": {},
     "output_type": "execute_result"
    }
   ],
   "source": [
    "# CROSSTAB 'NumFloors_Bin3' by TARGET\n",
    "df_zscore_top_xtab3 = df_zscore_top[['NumFloors_Bin3', 'TARGET']]\n",
    "df_zscore_top_xtab3_out = df_zscore_top_xtab3.groupby(['NumFloors_Bin3'], as_index=False).mean()\n",
    "df_zscore_top_xtab3_out"
   ]
  },
  {
   "cell_type": "markdown",
   "metadata": {},
   "source": [
    "Looking at the 'NumFloors_Bin3' bin by the TARGET also shows a clear relationship."
   ]
  },
  {
   "cell_type": "code",
   "execution_count": 46,
   "metadata": {},
   "outputs": [
    {
     "data": {
      "text/html": [
       "<div>\n",
       "<style scoped>\n",
       "    .dataframe tbody tr th:only-of-type {\n",
       "        vertical-align: middle;\n",
       "    }\n",
       "\n",
       "    .dataframe tbody tr th {\n",
       "        vertical-align: top;\n",
       "    }\n",
       "\n",
       "    .dataframe thead th {\n",
       "        text-align: right;\n",
       "    }\n",
       "</style>\n",
       "<table border=\"1\" class=\"dataframe\">\n",
       "  <thead>\n",
       "    <tr style=\"text-align: right;\">\n",
       "      <th></th>\n",
       "      <th>BuiltFAR_Bin3</th>\n",
       "      <th>TARGET</th>\n",
       "    </tr>\n",
       "  </thead>\n",
       "  <tbody>\n",
       "    <tr>\n",
       "      <th>0</th>\n",
       "      <td>1-Low</td>\n",
       "      <td>4.383343</td>\n",
       "    </tr>\n",
       "    <tr>\n",
       "      <th>1</th>\n",
       "      <td>2-Med</td>\n",
       "      <td>23.137212</td>\n",
       "    </tr>\n",
       "    <tr>\n",
       "      <th>2</th>\n",
       "      <td>3-High</td>\n",
       "      <td>48.044183</td>\n",
       "    </tr>\n",
       "  </tbody>\n",
       "</table>\n",
       "</div>"
      ],
      "text/plain": [
       "  BuiltFAR_Bin3     TARGET\n",
       "0         1-Low   4.383343\n",
       "1         2-Med  23.137212\n",
       "2        3-High  48.044183"
      ]
     },
     "execution_count": 46,
     "metadata": {},
     "output_type": "execute_result"
    }
   ],
   "source": [
    "# CROSSTAB 'BuiltFAR_Bin3' by TARGET\n",
    "df_zscore_top_xtab4 = df_zscore_top[['BuiltFAR_Bin3', 'TARGET']]\n",
    "df_zscore_top_xtab4_out = df_zscore_top_xtab4.groupby(['BuiltFAR_Bin3'], as_index=False).mean()\n",
    "df_zscore_top_xtab4_out"
   ]
  },
  {
   "cell_type": "markdown",
   "metadata": {},
   "source": [
    "Looking at the 'BuiltFAR_Bin3' bin by the TARGET also shows a clear relationship."
   ]
  },
  {
   "cell_type": "markdown",
   "metadata": {},
   "source": [
    "## 7. CONCLUDING REMARKS (Q3):"
   ]
  },
  {
   "cell_type": "markdown",
   "metadata": {},
   "source": [
    "Q3. Does Complaint Type identified in Q1 have a useful relationship with any particular PLUTO characteristic(s) of the houses/buildings?\n",
    "\n",
    "ANSWER: \n",
    "- YES. The features 'BldgAge', 'ResArea', 'NumFloors', and 'BuiltFAR', all have clear relationships with the TOP COMPLAINT identfied in Q1 (i.e., the 'TARGET' variable).\n",
    "\n",
    "RESULTS/ANALYSIS SUMMARY: \n",
    "1. Analysis of Initial Correlation Results:\n",
    "    - The following features were moderately correlated with the 'TARGET' variable.\n",
    "        - NumFloors (.46)\n",
    "        - BldgArea (.51)\n",
    "        - BldDepth (.41)\n",
    "        - BuiltFAR (.44)\n",
    "        - LotArea (.42)\n",
    "        - ResArea (.52)\n",
    "    - It was interesting that the other potential target variables (i.e., TARGET_R, TARGET_F) did not correlate with much.\n",
    "    - It was also surprising that the initial correlation of 'BldgAge' was not strong.\n",
    "    - There was no apparent realationship between the TARGET and whether a building has been altered.\n",
    "    - Note: Investigation of the PLUTO data dictionary showed that 'BuiltFAR' is calculated from 'LotArea' and 'BldgArea'.\n",
    "    - These initial correlations were a little underwhelming so further exploration and visualization was conducted (see 2. below).\n",
    "    \n",
    "2. Scatter Plots were much more revealing than the intial correlation stats and visually identified important relationships between the TARGET vairable and the following features. These plots also revealed why the initial correlations were only moderate which suggested using a BINNING approach to tease out the correlation strenths.\n",
    "    - BldgAge, BldgArea, ResArea, NumFloors, BuiltFAR, BldgDepth\n",
    "\n",
    "3. Finally, the BINS of the top features showed strong relationships.\n",
    "\n",
    "Stakeholder Questions (To optimize Q4 modeling, the following should be discussed with DHPD stakeholders):\n",
    "1. Do the features identified to have a relationship with the TARGET varaible that makes sense to them?\n",
    "2. Are there any other hypotheses they have regarding other fields in the PLUTO dataset that we may have overlooked?\n",
    "  \n",
    "Other Considerations:\n",
    "1. Feature Engineering of the top fields identified here and the other fields may prove even more productive as we move into the modeling process."
   ]
  },
  {
   "cell_type": "markdown",
   "metadata": {},
   "source": [
    "## END OF NOTEBOOK (3 of 4)"
   ]
  }
 ],
 "metadata": {
  "kernelspec": {
   "display_name": "Python 3.6",
   "language": "python",
   "name": "python3"
  },
  "language_info": {
   "codemirror_mode": {
    "name": "ipython",
    "version": 3
   },
   "file_extension": ".py",
   "mimetype": "text/x-python",
   "name": "python",
   "nbconvert_exporter": "python",
   "pygments_lexer": "ipython3",
   "version": "3.6.8"
  }
 },
 "nbformat": 4,
 "nbformat_minor": 1
}
